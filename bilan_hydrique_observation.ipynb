{
 "cells": [
  {
   "cell_type": "markdown",
   "id": "4c3914aa-b40b-4bfb-a3bc-fc409b4842ef",
   "metadata": {},
   "source": [
    "# Bilan hydrique à partir d'observations Météo-France horaires pour les dernières 24 h\n",
    "\n",
    "## Reconstruction des données météorologiques pour une station de référence\n",
    "\n",
    "### Définition des paramètres"
   ]
  },
  {
   "cell_type": "code",
   "execution_count": 1,
   "id": "45ddd479-aebf-4091-a12b-9ca688c36aad",
   "metadata": {},
   "outputs": [],
   "source": [
    "# Définition de la station de référence\n",
    "REF_STATION_NAME = 'La Petite Claye'\n",
    "REF_STATION_LATLON = [48.541356, -1.615400]\n",
    "# Altitude (m)\n",
    "REF_STATION_ALTITUDE = 50.\n",
    "\n",
    "# Identification de l'API Météo-France\n",
    "APPLICATION_ID = 'ZlFGb1VCNzdlQ3c5QmhSMU1IbE8xQTluOE0wYTpUS3l1YkcweGJmSTJrQlJVaGNiSkNHTXczdHNh'\n",
    "\n",
    "# Météo-France API\n",
    "METEOFRANCE_API = 'DPPaquetObs'\n",
    "\n",
    "# Fréquence des données climatiques\n",
    "METEOFRANCE_FREQUENCE = 'horaire'\n",
    "\n",
    "NN_NOMBRE = None\n",
    "# NN_RAYON_KM = 20.\n",
    "NN_RAYON_KM = 35.\n",
    "\n",
    "# Liste des variables météorologiques utilisées dans les calculs d'ETP et de bilan hydrique\n",
    "LISTE_VARIABLES_METEO = ['ff', 't', 'u', 'ray_glo01', 'rr1']\n",
    "\n",
    "# Fonction pour aggrégé chaque variable météorologique\n",
    "VARIABLE_AGGREGATORS = {\n",
    "    'vitesse_vent_10m': lambda x: x.mean(0),\n",
    "    'temperature_2m': lambda x: x.mean(0),\n",
    "    'humidite_relative': lambda x: x.mean(0),\n",
    "    'rayonnement_global': lambda x: x.sum(0),\n",
    "    'precipitation': lambda x: x.sum(0),\n",
    "    'etp': lambda x: x.sum(0),\n",
    "}"
   ]
  },
  {
   "cell_type": "markdown",
   "id": "beb9f109-a6c0-4acf-82d6-57c09dffbe50",
   "metadata": {},
   "source": [
    "### Lecture de la liste des stations"
   ]
  },
  {
   "cell_type": "code",
   "execution_count": 2,
   "id": "58f677fb-d794-4c08-84ba-d63b3d6fbd6a",
   "metadata": {},
   "outputs": [],
   "source": [
    "import meteofrance\n",
    "\n",
    "# Initialisation d'un client pour accéder à l'API Météo-France\n",
    "client = meteofrance.Client(APPLICATION_ID, METEOFRANCE_API)\n",
    "\n",
    "# Issue a series of API requests an example. For use this test, you must first subscribe to the arome api with your application\n",
    "client.session.headers.update({'Accept': '*/*'})"
   ]
  },
  {
   "cell_type": "code",
   "execution_count": 3,
   "id": "67b91ea7-2896-43d5-9ac7-65ca7abdc0bd",
   "metadata": {},
   "outputs": [],
   "source": [
    "import pandas as pd\n",
    "\n",
    "LECTURE_LISTE_STATIONS = True\n",
    "\n",
    "filepath_liste_stations = meteofrance.get_filepath_liste_stations(client)\n",
    "\n",
    "if LECTURE_LISTE_STATIONS:\n",
    "    # Lecture de la liste des stations\n",
    "    df_liste_stations = pd.read_csv(\n",
    "        filepath_liste_stations, index_col=client.id_station_label)\n",
    "else:\n",
    "    # Demande de la liste des stations\n",
    "    section = meteofrance.SECTION_LISTE_STATIONS\n",
    "    response = meteofrance.demande(client, section)\n",
    "    df_liste_stations = meteofrance.response_text_to_frame(\n",
    "        client, response, index_col=client.id_station_label)\n",
    "\n",
    "    # Sauvegarde de la liste des stations\n",
    "    df_liste_stations.to_csv(filepath_liste_stations)"
   ]
  },
  {
   "cell_type": "markdown",
   "id": "9a2f069a-e4db-4052-86e5-b6242f8e6efe",
   "metadata": {},
   "source": [
    "### Sélection des plus proches voisins de la station de référence"
   ]
  },
  {
   "cell_type": "code",
   "execution_count": 4,
   "id": "971bc5fc-0ee3-4ebd-ace6-14f896b46cc3",
   "metadata": {},
   "outputs": [
    {
     "data": {
      "text/html": [
       "<div>\n",
       "<style scoped>\n",
       "    .dataframe tbody tr th:only-of-type {\n",
       "        vertical-align: middle;\n",
       "    }\n",
       "\n",
       "    .dataframe tbody tr th {\n",
       "        vertical-align: top;\n",
       "    }\n",
       "\n",
       "    .dataframe thead th {\n",
       "        text-align: right;\n",
       "    }\n",
       "</style>\n",
       "<table border=\"1\" class=\"dataframe\">\n",
       "  <thead>\n",
       "    <tr style=\"text-align: right;\">\n",
       "      <th></th>\n",
       "      <th>Id_omm</th>\n",
       "      <th>Nom_usuel</th>\n",
       "      <th>Latitude</th>\n",
       "      <th>Longitude</th>\n",
       "      <th>Altitude</th>\n",
       "      <th>Date_ouverture</th>\n",
       "      <th>Pack</th>\n",
       "      <th>distance</th>\n",
       "    </tr>\n",
       "    <tr>\n",
       "      <th>Id_station</th>\n",
       "      <th></th>\n",
       "      <th></th>\n",
       "      <th></th>\n",
       "      <th></th>\n",
       "      <th></th>\n",
       "      <th></th>\n",
       "      <th></th>\n",
       "      <th></th>\n",
       "    </tr>\n",
       "  </thead>\n",
       "  <tbody>\n",
       "    <tr>\n",
       "      <th>35044001</th>\n",
       "      <td>NaN</td>\n",
       "      <td>BROUALAN</td>\n",
       "      <td>48.485667</td>\n",
       "      <td>-1.640833</td>\n",
       "      <td>99</td>\n",
       "      <td>1976-01-01</td>\n",
       "      <td>ETENDU</td>\n",
       "      <td>6</td>\n",
       "    </tr>\n",
       "    <tr>\n",
       "      <th>50410003</th>\n",
       "      <td>NaN</td>\n",
       "      <td>PONTORSON</td>\n",
       "      <td>48.585667</td>\n",
       "      <td>-1.505167</td>\n",
       "      <td>33</td>\n",
       "      <td>1997-03-01</td>\n",
       "      <td>RADOME</td>\n",
       "      <td>9</td>\n",
       "    </tr>\n",
       "    <tr>\n",
       "      <th>35224001</th>\n",
       "      <td>NaN</td>\n",
       "      <td>PLERGUER</td>\n",
       "      <td>48.524833</td>\n",
       "      <td>-1.843667</td>\n",
       "      <td>30</td>\n",
       "      <td>1989-07-01</td>\n",
       "      <td>ETENDU</td>\n",
       "      <td>17</td>\n",
       "    </tr>\n",
       "    <tr>\n",
       "      <th>35110003</th>\n",
       "      <td>NaN</td>\n",
       "      <td>FEINS  SA</td>\n",
       "      <td>48.326833</td>\n",
       "      <td>-1.596833</td>\n",
       "      <td>87</td>\n",
       "      <td>2005-04-29</td>\n",
       "      <td>RADOME</td>\n",
       "      <td>24</td>\n",
       "    </tr>\n",
       "    <tr>\n",
       "      <th>35225001</th>\n",
       "      <td>NaN</td>\n",
       "      <td>PLESDER</td>\n",
       "      <td>48.406833</td>\n",
       "      <td>-1.924833</td>\n",
       "      <td>56</td>\n",
       "      <td>1969-04-01</td>\n",
       "      <td>ETENDU</td>\n",
       "      <td>27</td>\n",
       "    </tr>\n",
       "    <tr>\n",
       "      <th>35178001</th>\n",
       "      <td>NaN</td>\n",
       "      <td>MEZIERES-SUR-C.</td>\n",
       "      <td>48.308833</td>\n",
       "      <td>-1.439000</td>\n",
       "      <td>71</td>\n",
       "      <td>1950-06-01</td>\n",
       "      <td>ETENDU</td>\n",
       "      <td>29</td>\n",
       "    </tr>\n",
       "    <tr>\n",
       "      <th>50531001</th>\n",
       "      <td>NaN</td>\n",
       "      <td>ST OVIN</td>\n",
       "      <td>48.682500</td>\n",
       "      <td>-1.248667</td>\n",
       "      <td>155</td>\n",
       "      <td>1970-06-01</td>\n",
       "      <td>ETENDU</td>\n",
       "      <td>31</td>\n",
       "    </tr>\n",
       "    <tr>\n",
       "      <th>50218001</th>\n",
       "      <td>7133.0</td>\n",
       "      <td>GRANVILLE</td>\n",
       "      <td>48.834500</td>\n",
       "      <td>-1.613667</td>\n",
       "      <td>37</td>\n",
       "      <td>1921-01-01</td>\n",
       "      <td>ETENDU</td>\n",
       "      <td>33</td>\n",
       "    </tr>\n",
       "    <tr>\n",
       "      <th>35228001</th>\n",
       "      <td>7125.0</td>\n",
       "      <td>DINARD</td>\n",
       "      <td>48.584833</td>\n",
       "      <td>-2.076333</td>\n",
       "      <td>65</td>\n",
       "      <td>1948-03-29</td>\n",
       "      <td>RADOME</td>\n",
       "      <td>34</td>\n",
       "    </tr>\n",
       "  </tbody>\n",
       "</table>\n",
       "</div>"
      ],
      "text/plain": [
       "            Id_omm        Nom_usuel   Latitude  Longitude  Altitude  \\\n",
       "Id_station                                                            \n",
       "35044001       NaN         BROUALAN  48.485667  -1.640833        99   \n",
       "50410003       NaN        PONTORSON  48.585667  -1.505167        33   \n",
       "35224001       NaN         PLERGUER  48.524833  -1.843667        30   \n",
       "35110003       NaN        FEINS  SA  48.326833  -1.596833        87   \n",
       "35225001       NaN          PLESDER  48.406833  -1.924833        56   \n",
       "35178001       NaN  MEZIERES-SUR-C.  48.308833  -1.439000        71   \n",
       "50531001       NaN          ST OVIN  48.682500  -1.248667       155   \n",
       "50218001    7133.0        GRANVILLE  48.834500  -1.613667        37   \n",
       "35228001    7125.0           DINARD  48.584833  -2.076333        65   \n",
       "\n",
       "           Date_ouverture    Pack  distance  \n",
       "Id_station                                   \n",
       "35044001       1976-01-01  ETENDU         6  \n",
       "50410003       1997-03-01  RADOME         9  \n",
       "35224001       1989-07-01  ETENDU        17  \n",
       "35110003       2005-04-29  RADOME        24  \n",
       "35225001       1969-04-01  ETENDU        27  \n",
       "35178001       1950-06-01  ETENDU        29  \n",
       "50531001       1970-06-01  ETENDU        31  \n",
       "50218001       1921-01-01  ETENDU        33  \n",
       "35228001       1948-03-29  RADOME        34  "
      ]
     },
     "execution_count": 4,
     "metadata": {},
     "output_type": "execute_result"
    }
   ],
   "source": [
    "import geo\n",
    "\n",
    "df_liste_stations_nn = geo.selection_plus_proches_voisins(\n",
    "    df_liste_stations, REF_STATION_LATLON, client.latlon_labels,\n",
    "    nombre=NN_NOMBRE, rayon_km=NN_RAYON_KM)\n",
    "\n",
    "df_liste_stations_nn"
   ]
  },
  {
   "cell_type": "markdown",
   "id": "257fc267-39ff-4487-b7d0-c1479ad07af5",
   "metadata": {},
   "source": [
    "### Obtention des données météorologiques pour les stations voisines"
   ]
  },
  {
   "cell_type": "code",
   "execution_count": 5,
   "id": "7a314c4c-f527-43e9-bdf1-a334ba1fa6b7",
   "metadata": {},
   "outputs": [],
   "source": [
    "LECTURE_DONNEE = False\n",
    "\n",
    "if LECTURE_DONNEE:\n",
    "    # Lecture des données des stations\n",
    "    DATE_DEB_PERIODE = '2025-01-04T16:00:00Z'\n",
    "    DATE_FIN_PERIODE = '2025-01-05T15:00:00Z'\n",
    "    filepath_donnee = meteofrance.get_filepath_donnee_periode(\n",
    "        client, DATE_DEB_PERIODE, DATE_FIN_PERIODE,\n",
    "        df_liste_stations=df_liste_stations_nn)\n",
    "    df_meteo = pd.read_csv(\n",
    "        filepath_donnee, parse_dates=[client.time_label],\n",
    "        index_col=[client.id_station_donnee_label, client.time_label])\n",
    "else:\n",
    "    # Demande des données des stations\n",
    "    df_meteo = meteofrance.compiler_donnee_des_departements(\n",
    "        client, df_liste_stations_nn,\n",
    "        frequence=METEOFRANCE_FREQUENCE)[LISTE_VARIABLES_METEO]\n",
    "    \n",
    "    # Sauvegarde des données des stations\n",
    "    time = df_meteo.index.to_frame()[client.time_label]\n",
    "    date_deb_periode = time.min().isoformat().replace(\"+00:00\", \"Z\")\n",
    "    date_fin_periode = time.max().isoformat().replace(\"+00:00\", \"Z\")\n",
    "    filepath_donnee = meteofrance.get_filepath_donnee_periode(\n",
    "        client, date_deb_periode, date_fin_periode,\n",
    "        df_liste_stations=df_liste_stations_nn)\n",
    "    df_meteo.to_csv(filepath_donnee)"
   ]
  },
  {
   "cell_type": "markdown",
   "id": "a594f22b-a3b4-4c88-bb53-da3da5dae3f1",
   "metadata": {},
   "source": [
    "### Interpolation des données météorologiques à la station de référence\n",
    "\n",
    "Les variables sont également renommées en utilisant des noms communs à l'ensemble de ces notebooks quelque soit l'API utilisée."
   ]
  },
  {
   "cell_type": "code",
   "execution_count": 6,
   "id": "ebaf61e2-f252-410d-a1ab-d56552cee45a",
   "metadata": {},
   "outputs": [],
   "source": [
    "LECTURE_DONNEE_REF = False\n",
    "\n",
    "str_ref_station_name = REF_STATION_NAME.lower().replace(' ', '')\n",
    "filepath_donnee_ref = filepath_donnee.with_name(\n",
    "    filepath_donnee.stem + '_' + str_ref_station_name + filepath_donnee.suffix)\n",
    "\n",
    "if LECTURE_DONNEE_REF:\n",
    "    # Lecture des données des stations pour la période\n",
    "    df_meteo_ref_heure = pd.read_csv(\n",
    "        filepath_donnee_ref, parse_dates=[client.time_label],\n",
    "        index_col=client.time_label)\n",
    "else:\n",
    "    # Demande des données des stations\n",
    "    df_meteo_ref_heure = geo.interpolation_inverse_distance_carre(\n",
    "        df_meteo, df_liste_stations_nn['distance'])\n",
    "    \n",
    "    # Sauvegarde par département\n",
    "    df_meteo_ref_heure.to_csv(filepath_donnee_ref)\n",
    "\n",
    "df_meteo_ref_heure = meteofrance.renommer_variables(\n",
    "    client, df_meteo_ref_heure, METEOFRANCE_FREQUENCE)"
   ]
  },
  {
   "cell_type": "markdown",
   "id": "fca6d1f3-7f01-4c23-8e01-9d50b8fff2ba",
   "metadata": {},
   "source": [
    "### Estimation de l'ETP journalière pour la station de référence\n",
    "\n",
    "####  Calcul de l'ETP horaire à partir des données météorologiques"
   ]
  },
  {
   "cell_type": "code",
   "execution_count": 7,
   "id": "ce5c979e-092b-4ecf-91a4-d8798eb37e04",
   "metadata": {},
   "outputs": [],
   "source": [
    "from etp import calcul_etp\n",
    "\n",
    "etp = calcul_etp(df_meteo_ref_heure, *REF_STATION_LATLON, REF_STATION_ALTITUDE)\n",
    "df_meteo_ref_heure['etp'] = etp"
   ]
  },
  {
   "cell_type": "markdown",
   "id": "7e680749-7138-45f9-8e3f-638a10772f78",
   "metadata": {},
   "source": [
    "#### Aggrégation à l'échelle journalière"
   ]
  },
  {
   "cell_type": "code",
   "execution_count": 8,
   "id": "162ea6b4-b9fe-49e4-99ee-777d7f065ee1",
   "metadata": {},
   "outputs": [],
   "source": [
    "# Calcul des valeurs journalières des variables météo\n",
    "s_meteo_ref = pd.Series(dtype=float)\n",
    "for variable, series in df_meteo_ref_heure.items():\n",
    "    s_meteo_ref.loc[variable] = VARIABLE_AGGREGATORS[variable](\n",
    "        df_meteo_ref_heure[variable])"
   ]
  },
  {
   "cell_type": "markdown",
   "id": "e89469f3-fb9e-4d29-88cf-37152683ec58",
   "metadata": {},
   "source": [
    "## Estimation du bilan hydrique\n",
    "\n",
    "### Définition des paramètres"
   ]
  },
  {
   "cell_type": "markdown",
   "id": "ad92bd50-c692-4c70-b8ad-fc83014be1e8",
   "metadata": {},
   "source": [
    "Sources :\n",
    "\n",
    "- Coefficients culturaux :\n",
    "  - [ARDEPI](https://www.ardepi.fr/nos-services/vous-etes-irrigant/estimer-ses-besoins-en-eau/maraichage/)\n",
    "  - [Chambre d’agriculture Nouvelle-Aquitaine](https://gironde.chambre-agriculture.fr/fileadmin/user_upload/Nouvelle-Aquitaine/100_Inst-Gironde/Documents/pdf_grandes-cultures_accompagnement-technique_mieux-irriguer/Messages_irrigation_2019/message_1/Tableau_Coefficients_Culturaux_Kc_.02.pdf)\n"
   ]
  },
  {
   "cell_type": "code",
   "execution_count": 9,
   "id": "151448cd-958d-48ad-b6fb-2f916607f139",
   "metadata": {},
   "outputs": [],
   "source": [
    "# RFU finale cible (mm)\n",
    "RFU_CIBLE = None\n",
    "\n",
    "# Fraction du sol occupé par des cailloux et graviers (entre 0 pour absence de cailloux et 1 pour totalité de cailloux)\n",
    "FRACTION_CAILLOUX = 0.1\n",
    "\n",
    "# Choix de la texture\n",
    "TEXTURE = 'Terres limoneuses'\n",
    "\n",
    "# Coefficient de conversion de la RU en RFU (entre 1/2 et 2/3)\n",
    "RU_VERS_RFU = 2. / 3\n",
    "\n",
    "# Fraction de la réserve utile du sol remplie d'eau (entre 0 pour une période sèche et 1 pour une période pluvieuse)\n",
    "FRACTION_REMPLIE = 1."
   ]
  },
  {
   "cell_type": "code",
   "execution_count": 10,
   "id": "e1fe2b79-936e-44ae-a707-239f1c291704",
   "metadata": {},
   "outputs": [],
   "source": [
    "# Choix de la culture\n",
    "CULTURE = 'Pomme de terre'\n",
    "\n",
    "# Choix du stade\n",
    "STADE = 'Vegetation'"
   ]
  },
  {
   "cell_type": "code",
   "execution_count": 11,
   "id": "88ff7710-cc95-4149-b25f-05680ab7541b",
   "metadata": {},
   "outputs": [
    {
     "data": {
      "text/plain": [
       "ru                             48.6\n",
       "profondeur_terrefine           27.0\n",
       "profondeur_enracinement        30.0\n",
       "rfu                            32.4\n",
       "rfu_cible                      32.4\n",
       "etm_culture                0.823565\n",
       "precipitation              1.543221\n",
       "besoin_irrigation         -0.719656\n",
       "irrigation                    False\n",
       "dtype: object"
      ]
     },
     "execution_count": 11,
     "metadata": {},
     "output_type": "execute_result"
    }
   ],
   "source": [
    "import bilan\n",
    "\n",
    "s_bilan = bilan.calcul_bilan(\n",
    "    TEXTURE, FRACTION_CAILLOUX,\n",
    "    CULTURE, STADE,\n",
    "    s_meteo_ref,\n",
    "    rfu_cible=RFU_CIBLE, fraction_remplie=FRACTION_REMPLIE, ru_vers_rfu=RU_VERS_RFU)\n",
    "\n",
    "s_bilan"
   ]
  }
 ],
 "metadata": {
  "kernelspec": {
   "display_name": "Python 3 (ipykernel)",
   "language": "python",
   "name": "python3"
  },
  "language_info": {
   "codemirror_mode": {
    "name": "ipython",
    "version": 3
   },
   "file_extension": ".py",
   "mimetype": "text/x-python",
   "name": "python",
   "nbconvert_exporter": "python",
   "pygments_lexer": "ipython3",
   "version": "3.12.8"
  }
 },
 "nbformat": 4,
 "nbformat_minor": 5
}
