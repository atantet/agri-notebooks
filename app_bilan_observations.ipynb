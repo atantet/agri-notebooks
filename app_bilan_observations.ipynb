{
 "cells": [
  {
   "cell_type": "code",
   "execution_count": null,
   "id": "040cbd11-8aa7-496d-86b8-84567ca4e3cb",
   "metadata": {
    "panel-layout": {
     "height": 2218.08,
     "visible": true,
     "width": 100
    }
   },
   "outputs": [],
   "source": [
    "import pandas as pd\n",
    "import panel as pn\n",
    "import param\n",
    "\n",
    "pn.extension(\n",
    "    'plotly', 'tabulator',\n",
    "    throttled=True, loading_indicator=True\n",
    ")\n",
    "\n",
    "from datastore_observations import DataStoreObservations\n",
    "from viewer_bilan_observations import ViewerIntroduction, ViewerMeteoObservations, ViewerBilanObservations\n",
    "\n",
    "class AppBilanObservations(pn.viewable.Viewer):\n",
    "    datastore = param.ClassSelector(class_=DataStoreObservations)\n",
    "    views = param.List()\n",
    "    titre = param.String(default=(\n",
    "        \"Bilan hydrique à partir des dernières 24 h \"\n",
    "        \"d'observations Météo-France\"))\n",
    "    sidebar_width = param.Integer(default=500)\n",
    "\n",
    "    def __init__(self, **params):\n",
    "        super().__init__(**params)\n",
    "        self._views = pn.FlexBox(\n",
    "            *(view(datastore=self.datastore) for view in self.views))\n",
    "        self._template = pn.template.MaterialTemplate(\n",
    "            title=self.titre, sidebar_width=self.sidebar_width)\n",
    "        self._template.sidebar.append(self.datastore)\n",
    "        self._template.main.append(self._views)\n",
    "\n",
    "    def servable(self):\n",
    "        if pn.state.served:\n",
    "            return self._template.servable()\n",
    "        return self\n",
    "\n",
    "    def __panel__(self):\n",
    "        return pn.Column(self.datastore, self._views)\n",
    "\n",
    "APPLICATION_ID = 'ZlFGb1VCNzdlQ3c5QmhSMU1IbE8xQTluOE0wYTpUS3l1YkcweGJmSTJrQlJVaGNiSkNHTXczdHNh'\n",
    "REF_STATION_NAME = 'La Petite Claye'\n",
    "REF_STATION_ALTITUDE = 50.\n",
    "REF_STATION_LAT = 48.541356\n",
    "REF_STATION_LON = -1.615400\n",
    "NN_RAYON_KM = 35.\n",
    "import pandas as pd\n",
    "PERIODE = (pd.Timestamp(\"2025-01-19T21:00:00Z\"),\n",
    "           pd.Timestamp(\"2025-01-20T20:00:00Z\"))\n",
    "\n",
    "\n",
    "params = dict(\n",
    "    lire_liste_stations=True,                                                                                                                               \n",
    "    lire_donnee_liste_stations=True,                                                                                                                        \n",
    "    lire_donnee_ref=True,                                                                                                                                   \n",
    "    application_id=APPLICATION_ID,\n",
    "    ref_station_name=REF_STATION_NAME,\n",
    "    ref_station_altitude=REF_STATION_ALTITUDE,\n",
    "    ref_station_lat=REF_STATION_LAT,\n",
    "    ref_station_lon=REF_STATION_LON,\n",
    "    nn_rayon_km=NN_RAYON_KM,\n",
    "    date_fin=PERIODE[1]\n",
    ")\n",
    "\n",
    "datastore = DataStoreObservations(**params)\n",
    "views = [ViewerIntroduction, ViewerMeteoObservations, ViewerBilanObservations]\n",
    "AppBilanObservations(datastore=datastore, views=views).servable()"
   ]
  }
 ],
 "metadata": {
  "kernelspec": {
   "display_name": "Python 3 (ipykernel)",
   "language": "python",
   "name": "python3"
  },
  "language_info": {
   "codemirror_mode": {
    "name": "ipython",
    "version": 3
   },
   "file_extension": ".py",
   "mimetype": "text/x-python",
   "name": "python",
   "nbconvert_exporter": "python",
   "pygments_lexer": "ipython3",
   "version": "3.12.8"
  },
  "panel-cell-order": [
   "040cbd11-8aa7-496d-86b8-84567ca4e3cb"
  ]
 },
 "nbformat": 4,
 "nbformat_minor": 5
}
