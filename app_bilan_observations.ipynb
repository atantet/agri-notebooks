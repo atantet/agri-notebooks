{
 "cells": [
  {
   "cell_type": "code",
   "execution_count": null,
   "id": "040cbd11-8aa7-496d-86b8-84567ca4e3cb",
   "metadata": {
    "panel-layout": {
     "height": 2218.08,
     "visible": true,
     "width": 100
    }
   },
   "outputs": [],
   "source": [
    "import pandas as pd\n",
    "import panel as pn\n",
    "import param\n",
    "\n",
    "pn.extension(\n",
    "    'plotly', 'tabulator',\n",
    "    throttled=True, defer_load=True, loading_indicator=True\n",
    ")\n",
    "\n",
    "\n",
    "from datastore_observations import DataStoreObservations\n",
    "from viewer_bilan_observations import ViewerMeteoObservations, ViewerBilanObservations\n",
    "\n",
    "class AppBilanObservations(pn.viewable.Viewer):\n",
    "    datastore = param.ClassSelector(class_=DataStoreObservations)\n",
    "    view_meteo = param.ClassSelector(class_=ViewerMeteoObservations)\n",
    "    view_bilan = param.ClassSelector(class_=ViewerBilanObservations)\n",
    "\n",
    "    titre = param.String(default=(\n",
    "        \"Bilan hydrique à partir des dernières 24 h \"\n",
    "        \"d'observations Météo-France\"))\n",
    "    sidebar_width = param.Integer(default=500)\n",
    "\n",
    "    def __init__(self, **params):\n",
    "        super().__init__(**params)\n",
    "        \n",
    "        self._template = pn.template.MaterialTemplate(\n",
    "            title=self.titre, sidebar_width=self.sidebar_width)\n",
    "        self._template.sidebar.append(self.datastore)\n",
    "        self._template.main.append(self.view_meteo)\n",
    "        self._template.main.append(self.view_bilan)\n",
    "\n",
    "    def servable(self):\n",
    "        if pn.state.served:\n",
    "            return self._template.servable()\n",
    "        return self\n",
    "\n",
    "    def __panel__(self):\n",
    "\n",
    "        return pn.Column(self.datastore, self.view_meteo, self.view_bilan)\n",
    "\n",
    "datastore = DataStoreObservations()\n",
    "view_meteo = ViewerMeteoObservations(datastore=datastore)\n",
    "view_bilan = ViewerBilanObservations(datastore=datastore)\n",
    "AppBilanObservations(\n",
    "    datastore=datastore,\n",
    "    view_meteo=view_meteo,\n",
    "    view_bilan=view_bilan).servable()"
   ]
  }
 ],
 "metadata": {
  "kernelspec": {
   "display_name": "Python 3 (ipykernel)",
   "language": "python",
   "name": "python3"
  },
  "language_info": {
   "codemirror_mode": {
    "name": "ipython",
    "version": 3
   },
   "file_extension": ".py",
   "mimetype": "text/x-python",
   "name": "python",
   "nbconvert_exporter": "python",
   "pygments_lexer": "ipython3",
   "version": "3.12.8"
  },
  "panel-cell-order": [
   "040cbd11-8aa7-496d-86b8-84567ca4e3cb"
  ]
 },
 "nbformat": 4,
 "nbformat_minor": 5
}
