{
 "cells": [
  {
   "cell_type": "code",
   "execution_count": null,
   "id": "ebc4c40f-74e7-440e-ba7c-2079fb246adf",
   "metadata": {
    "panel-layout": {
     "height": 451.20001220703125,
     "visible": true,
     "width": 100
    }
   },
   "outputs": [],
   "source": [
    "from app_bilan_observations import AppBilanObservations\n",
    "from datastore_observations import DataStoreObservations\n",
    "from viewer_bilan_observations import ViewerMeteoObservations, ViewerBilanObservations\n",
    "\n",
    "APPLICATION_ID = 'ZlFGb1VCNzdlQ3c5QmhSMU1IbE8xQTluOE0wYTpUS3l1YkcweGJmSTJrQlJVaGNiSkNHTXczdHNh'\n",
    "REF_STATION_NAME = 'La Petite Claye'\n",
    "REF_STATION_ALTITUDE = 50.\n",
    "REF_STATION_LAT = 48.541356\n",
    "REF_STATION_LON = -1.615400\n",
    "NN_RAYON_KM = 35.\n",
    "import pandas as pd \n",
    "PERIODE = (pd.Timestamp(\"2025-01-19T21:00:00Z\"),\n",
    "           pd.Timestamp(\"2025-01-20T20:00:00Z\"))\n",
    "\n",
    "\n",
    "params = dict(\n",
    "    # lire_liste_stations=True,\n",
    "    # lire_donnee_liste_stations=True,\n",
    "    # lire_donnee_ref=True,\n",
    "    application_id=APPLICATION_ID,\n",
    "    ref_station_name=REF_STATION_NAME,\n",
    "    ref_station_altitude=REF_STATION_ALTITUDE,\n",
    "    ref_station_lat=REF_STATION_LAT,\n",
    "    ref_station_lon=REF_STATION_LON,\n",
    "    nn_rayon_km=NN_RAYON_KM,\n",
    "    date_fin=PERIODE[1]\n",
    ")\n",
    "    \n",
    "datastore = DataStoreObservations(**params)\n",
    "# datastore = DataStoreObservations()\n",
    "view_meteo = ViewerMeteoObservations(datastore=datastore)\n",
    "view_bilan = ViewerBilanObservations(datastore=datastore)\n",
    "AppBilanObservations(\n",
    "    datastore=datastore,\n",
    "    view_meteo=view_meteo,\n",
    "    view_bilan=view_bilan).servable()"
   ]
  }
 ],
 "metadata": {
  "kernelspec": {
   "display_name": "Python 3 (ipykernel)",
   "language": "python",
   "name": "python3"
  },
  "language_info": {
   "codemirror_mode": {
    "name": "ipython",
    "version": 3
   },
   "file_extension": ".py",
   "mimetype": "text/x-python",
   "name": "python",
   "nbconvert_exporter": "python",
   "pygments_lexer": "ipython3",
   "version": "3.12.8"
  },
  "panel-cell-order": [
   "ebc4c40f-74e7-440e-ba7c-2079fb246adf"
  ]
 },
 "nbformat": 4,
 "nbformat_minor": 5
}
