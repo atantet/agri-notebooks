{
 "cells": [
  {
   "cell_type": "markdown",
   "id": "4c3914aa-b40b-4bfb-a3bc-fc409b4842ef",
   "metadata": {},
   "source": [
    "# Bilan Hydrique"
   ]
  },
  {
   "cell_type": "markdown",
   "id": "b568dd36-add3-4a34-916f-2271a34e95ff",
   "metadata": {},
   "source": [
    "Sources :\n",
    "\n",
    "- Coefficients culturaux :\n",
    "  - [ARDEPI](https://www.ardepi.fr/nos-services/vous-etes-irrigant/estimer-ses-besoins-en-eau/maraichage/)\n",
    "  - [Chambre d’agriculture Nouvelle-Aquitaine](https://gironde.chambre-agriculture.fr/fileadmin/user_upload/Nouvelle-Aquitaine/100_Inst-Gironde/Documents/pdf_grandes-cultures_accompagnement-technique_mieux-irriguer/Messages_irrigation_2019/message_1/Tableau_Coefficients_Culturaux_Kc_.02.pdf)\n"
   ]
  },
  {
   "cell_type": "code",
   "execution_count": 1,
   "id": "c33bb3f5-841b-48af-b8b9-4046c4686900",
   "metadata": {},
   "outputs": [],
   "source": [
    "import numpy as np\n",
    "import pandas as pd\n",
    "import matplotlib\n",
    "import matplotlib.pyplot as plt"
   ]
  },
  {
   "cell_type": "code",
   "execution_count": 58,
   "id": "da1d4208-379e-47ee-bf54-e55d4d5fc1cd",
   "metadata": {},
   "outputs": [],
   "source": [
    "# Constantes\n",
    "# Coefficients culturaux (KC) par culture et par stade\n",
    "KC = {\n",
    "    'Pomme de terre': {'Vegetation': 0.9, 'Maximale': 1.05}\n",
    "}\n",
    "\n",
    "# Réserve Utile (RU) par cm de terre fine (mm/cm de terre fine) en fonction de la texture du sol\n",
    "RU_PAR_CM_DE_TF = {\n",
    "    'Terres argileuses': 1.85,\n",
    "    'Argiles sableuses': 1.7, 'Argiles sablo-limoneuses': 1.8, 'Argiles limono-sableuses': 1.8, 'Argiles limoneuses': 1.9,\n",
    "    'Terres argilo-sableuses': 1.7, 'Terres argilo-limono-sableuses': 1.8, 'Terres argilo-limoneuses': 2.,\n",
    "    'Terres sablo-argileuses': 1.4, 'Terres sablo-limono-argileuses': 1.5, 'Terres limono-sablo-argileuses': 1.65, 'Terres limono-argileuses': 2.00,\n",
    "    'Terres sableuses': 0.7, 'Terres sablo-limoneuses': 1., 'Terres limono-sableuses': 1.55, 'Terres limoneuses': 1.8\n",
    "}\n",
    "\n",
    "# Profondeurs d'enracinement typiques\n",
    "PROFONDEUR_ENRACINEMENT_TYPIQUE = {\n",
    "    'Radis': 15.,\n",
    "    'Salade': 15.,\n",
    "    'Choux': 20.,\n",
    "    'Epinard': 20.,\n",
    "    'Oignon': 20.,\n",
    "    'Aubergine': 30.,\n",
    "    'Carotte': 30.,\n",
    "    'Courge': 30.,\n",
    "    'Courgette': 30.,\n",
    "    'Poivron': 30.,\n",
    "    'Pomme de terre': 30.,\n",
    "    'Tomate': 30.\n",
    "}   \n",
    "\n",
    "# Liste des variables météorologiques utilisées dans les calculs d'ETP et de bilan hydrique\n",
    "LISTE_VARIABLES_METEO = ['ff', 't', 'u', 'ray_glo01', 'rr1']"
   ]
  },
  {
   "cell_type": "code",
   "execution_count": 3,
   "id": "34b736b5-9486-4cd9-9221-cf6d5d0b5820",
   "metadata": {},
   "outputs": [],
   "source": [
    "# Données météorologiques\n",
    "# Évapotranspiration Potentielle (ETP) sur la période (mm)\n",
    "ETP = 28.\n",
    "\n",
    "# Réserve Facilement Utilisable (RFU) initiale (mm)\n",
    "RFU_INITIALE = 40.\n",
    "\n",
    "# Pluviométrie (mm)\n",
    "PLUVIOMETRIE = 5."
   ]
  },
  {
   "cell_type": "code",
   "execution_count": 4,
   "id": "38a97c0b-ae8c-47f8-91e4-06336e6ffaed",
   "metadata": {},
   "outputs": [],
   "source": [
    "# RFU finale cible (mm)\n",
    "RFU_FINALE_CIBLE = 40.\n",
    "\n",
    "# Coefficient de conversion de la RU en RFU (entre 1/2 et 2/3)\n",
    "RU_VERS_RFU = 2. / 3\n",
    "\n",
    "# Fraction de la réserve utile du sol remplie d'eau (entre 0 pour une période sèche et 1 pour une période pluvieuse)\n",
    "FRACTION_REMPLIE = 1.\n",
    "\n",
    "# Fraction du sol occupé par des cailloux et graviers (entre 0 pour absence de cailloux et 1 pour totalité de cailloux)\n",
    "FRACTION_CAILLOUX = 0.3"
   ]
  },
  {
   "cell_type": "code",
   "execution_count": 5,
   "id": "e1fe2b79-936e-44ae-a707-239f1c291704",
   "metadata": {},
   "outputs": [],
   "source": [
    "# Choix de la culture\n",
    "culture = 'Pomme de terre'\n",
    "\n",
    "# Choix du stade\n",
    "stade = 'Vegetation'\n",
    "\n",
    "# Choix de la texture\n",
    "texture = 'Terres limoneuses'"
   ]
  },
  {
   "cell_type": "code",
   "execution_count": 6,
   "id": "d889582e-060e-4678-bab0-0a7fbf58c113",
   "metadata": {},
   "outputs": [
    {
     "name": "stdout",
     "output_type": "stream",
     "text": [
      "RFU pour une profondeur d'enracinement de 30 cm : 25 mm\n"
     ]
    }
   ],
   "source": [
    "# RU par cm de terre fine pour cette texture\n",
    "ru_par_cm_de_tf_texture = RU_PAR_CM_DE_TF[texture]\n",
    "\n",
    "# Calcul de la profondeur de terre fine\n",
    "profondeur = PROFONDEUR_ENRACINEMENT_TYPIQUE[culture]\n",
    "profondeur_tf = profondeur * (1. - FRACTION_CAILLOUX)\n",
    "\n",
    "# Calcul de la RU (mm)\n",
    "ru = ru_par_cm_de_tf_texture * profondeur_tf\n",
    "\n",
    "# Calcul de la RFU maximale (mm)\n",
    "rfu_max = ru * RU_VERS_RFU\n",
    "\n",
    "# Calcul de la RFU disponible (mm)\n",
    "rfu = rfu_max * FRACTION_REMPLIE\n",
    "\n",
    "print(f\"RFU pour une profondeur d'enracinement de {profondeur:.0f} cm : {rfu:.0f} mm\")"
   ]
  },
  {
   "cell_type": "code",
   "execution_count": 7,
   "id": "6a2eb5f1-a8a6-4460-bcbc-794e22076faf",
   "metadata": {},
   "outputs": [
    {
     "name": "stdout",
     "output_type": "stream",
     "text": [
      "Évapotranspiration maximale pour la Pomme de terre au stade Vegetation: 25 (mm)\n"
     ]
    }
   ],
   "source": [
    "# KC de la culture pour ce stade\n",
    "kc_culture = KC[culture][stade]\n",
    "\n",
    "# Calcul de l'évalotranspiration maximale (mm)\n",
    "etm_culture = kc_culture * ETP\n",
    "\n",
    "print(f'Évapotranspiration maximale pour la {culture} au stade {stade}: {etm_culture:.0f} (mm)')"
   ]
  },
  {
   "cell_type": "code",
   "execution_count": 8,
   "id": "83da8feb-dd5c-4af3-bde8-66cab7dc9891",
   "metadata": {},
   "outputs": [
    {
     "name": "stdout",
     "output_type": "stream",
     "text": [
      "Besoin en irrigation pour la Pomme de terre au stade Vegetation: 35 (mm)\n"
     ]
    }
   ],
   "source": [
    "# Calcul de la RFU finale\n",
    "besoin_irrigation = RFU_FINALE_CIBLE + etm_culture - (rfu + PLUVIOMETRIE)\n",
    "\n",
    "print(f'Besoin en irrigation pour la {culture} au stade {stade}: {besoin_irrigation:.0f} (mm)')"
   ]
  },
  {
   "cell_type": "code",
   "execution_count": 9,
   "id": "45ddd479-aebf-4091-a12b-9ca688c36aad",
   "metadata": {},
   "outputs": [],
   "source": [
    "# Définition de la station de référence\n",
    "REF_STATION_NAME = 'La Petite Claye'\n",
    "REF_STATION_LATLON = [48.541356, -1.615400]"
   ]
  },
  {
   "cell_type": "code",
   "execution_count": 10,
   "id": "a1957db3-e761-4ef4-ba4e-4fec9e4dc822",
   "metadata": {},
   "outputs": [],
   "source": [
    "from io import StringIO\n",
    "import json\n",
    "import requests\n",
    "\n",
    "# Definitions pour accéder à l'API Météo-France via un token OAuth2\n",
    "# unique application id : you can find this in the curl's command to generate jwt token \n",
    "APPLICATION_ID = 'ZlFGb1VCNzdlQ3c5QmhSMU1IbE8xQTluOE0wYTpUS3l1YkcweGJmSTJrQlJVaGNiSkNHTXczdHNh'\n",
    "\n",
    "# url to obtain acces token\n",
    "TOKEN_URL = \"https://portail-api.meteofrance.fr/token\"\n",
    "\n",
    "class Client(object):\n",
    "    def __init__(self):\n",
    "        self.session = requests.Session()\n",
    "        \n",
    "    def request(self, method, url, **kwargs):\n",
    "        # First request will always need to obtain a token first\n",
    "        if 'Authorization' not in self.session.headers:\n",
    "            self.obtain_token()\n",
    "            \n",
    "        # Optimistically attempt to dispatch reqest\n",
    "        response = self.session.request(method, url, **kwargs)\n",
    "\n",
    "        if self.token_has_expired(response):\n",
    "            # We got an 'Access token expired' response => refresh token\n",
    "            self.obtain_token()\n",
    "\n",
    "            # Re-dispatch the request that previously failed\n",
    "            response = self.session.request(method, url, **kwargs)\n",
    "\n",
    "        return response\n",
    "\n",
    "    def token_has_expired(self, response):\n",
    "        status = response.status_code\n",
    "        content_type = response.headers['Content-Type']\n",
    "        repJson = response.text\n",
    "\n",
    "        if status == 401 and 'application/json' in content_type:\n",
    "            repJson = response.text\n",
    "            \n",
    "            if 'Invalid JWT token' in repJson['description']:\n",
    "                return True\n",
    "\n",
    "        return False\n",
    "\n",
    "    def obtain_token(self):\n",
    "        # Obtain new token\n",
    "        data = {'grant_type': 'client_credentials'}\n",
    "        headers = {'Authorization': 'Basic ' + APPLICATION_ID}\n",
    "        access_token_response = requests.post(\n",
    "            TOKEN_URL, data=data, verify=False, allow_redirects=False, headers=headers)\n",
    "        token = access_token_response.json()['access_token']\n",
    "\n",
    "        # Update session with fresh token\n",
    "        self.session.headers.update({'Authorization': 'Bearer %s' % token})\n",
    "\n",
    "def response_text_to_frame(response, **read_csv_kwargs):\n",
    "    return pd.read_csv(StringIO(response.text), sep=';', **read_csv_kwargs)"
   ]
  },
  {
   "cell_type": "code",
   "execution_count": 11,
   "id": "58f677fb-d794-4c08-84ba-d63b3d6fbd6a",
   "metadata": {},
   "outputs": [],
   "source": [
    "# Initialisation d'un client pour accéder à l'API Météo-France\n",
    "client = Client()\n",
    "\n",
    "# Issue a series of API requests an example. For use this test, you must first subscribe to the arome api with your application\n",
    "client.session.headers.update({'Accept': '*/*'})"
   ]
  },
  {
   "cell_type": "code",
   "execution_count": 12,
   "id": "f37b110a-9757-40dc-b18c-e2f13bf09af4",
   "metadata": {},
   "outputs": [],
   "source": [
    "# Host\n",
    "METEOFRANCE_HOST = 'https://public-api.meteofrance.fr'\n",
    "METEOFRANCE_DOMAIN = 'public'\n",
    "METEOFRANCE_VERSION = 'v1'\n",
    "METEOFRANCE_FREQUENCE = 'horaire'\n",
    "METEOFRANCE_DIR_LISTE_STATIONS = 'liste-stations'\n",
    "METEOFRANCE_API_STATION = ''\n",
    "METEOFRANCE_GRANULARITE_STATION = 'station'\n",
    "METEOFRANCE_API_PAQUET = 'DPPaquetObs'\n",
    "METEOFRANCE_GRANULARITE_PAQUET = 'paquet'\n",
    "METEOFRANCE_FMT = 'csv'\n",
    "\n",
    "# URL de la liste des stations\n",
    "URL_LISTE_STATIONS_STATION = (f'{METEOFRANCE_HOST}/{METEOFRANCE_DOMAIN}/{METEOFRANCE_API_STATION}/'\n",
    "                              f'{METEOFRANCE_VERSION}/{METEOFRANCE_DIR_LISTE_STATIONS}')\n",
    "URL_LISTE_STATIONS_PAQUET = (f'{METEOFRANCE_HOST}/{METEOFRANCE_DOMAIN}/{METEOFRANCE_API_PAQUET}/'\n",
    "                             f'{METEOFRANCE_VERSION}/{METEOFRANCE_DIR_LISTE_STATIONS}')\n",
    "\n",
    "# URL de base des données horaires\n",
    "URL_DONNEE_STATION = (f'{METEOFRANCE_HOST}/{METEOFRANCE_DOMAIN}/{METEOFRANCE_API_STATION}/'\n",
    "                      f'{METEOFRANCE_VERSION}/{METEOFRANCE_GRANULARITE_STATION}/{METEOFRANCE_FREQUENCE}')\n",
    "URL_DONNEE_PAQUET = (f'{METEOFRANCE_HOST}/{METEOFRANCE_DOMAIN}/{METEOFRANCE_API_PAQUET}/'\n",
    "                     f'{METEOFRANCE_VERSION}/{METEOFRANCE_GRANULARITE_PAQUET}/{METEOFRANCE_FREQUENCE}')\n",
    "\n",
    "# Étiquettes de la latitude et de la longitude\n",
    "LATLON_LABELS = ['Latitude', 'Longitude']"
   ]
  },
  {
   "cell_type": "code",
   "execution_count": 13,
   "id": "13e49106-3ce2-4d9e-b2fa-31ae8a709aa2",
   "metadata": {},
   "outputs": [],
   "source": [
    "# Choix de l'api\n",
    "url_liste_stations = URL_LISTE_STATIONS_PAQUET\n",
    "url_donnee = URL_DONNEE_PAQUET"
   ]
  },
  {
   "cell_type": "code",
   "execution_count": 14,
   "id": "3d317817-77af-4a64-b0e8-9e2c4a8201c1",
   "metadata": {},
   "outputs": [
    {
     "name": "stderr",
     "output_type": "stream",
     "text": [
      "/home/atantet/.conda/envs/agri_notebooks/lib/python3.13/site-packages/urllib3/connectionpool.py:1097: InsecureRequestWarning: Unverified HTTPS request is being made to host 'portail-api.meteofrance.fr'. Adding certificate verification is strongly advised. See: https://urllib3.readthedocs.io/en/latest/advanced-usage.html#tls-warnings\n",
      "  warnings.warn(\n",
      "/home/atantet/.conda/envs/agri_notebooks/lib/python3.13/site-packages/urllib3/connectionpool.py:1097: InsecureRequestWarning: Unverified HTTPS request is being made to host 'public-api.meteofrance.fr'. Adding certificate verification is strongly advised. See: https://urllib3.readthedocs.io/en/latest/advanced-usage.html#tls-warnings\n",
      "  warnings.warn(\n"
     ]
    }
   ],
   "source": [
    "# Demande de la liste des stations\n",
    "response_liste_stations = client.request('GET', url_liste_stations, verify=False)"
   ]
  },
  {
   "cell_type": "code",
   "execution_count": 15,
   "id": "67b91ea7-2896-43d5-9ac7-65ca7abdc0bd",
   "metadata": {},
   "outputs": [],
   "source": [
    "# Conversion du texte répondu en DataFrame\n",
    "df_liste_stations = response_text_to_frame(response_liste_stations, index_col='Id_station')"
   ]
  },
  {
   "cell_type": "code",
   "execution_count": 16,
   "id": "f4e3b0db-19f6-4eb2-8dbc-208d1515303e",
   "metadata": {},
   "outputs": [],
   "source": [
    "# Convert degrees to radians\n",
    "latlon_rad_labels = []\n",
    "for latlon_label, latlon_series in df_liste_stations[LATLON_LABELS].items():\n",
    "    latlon_rad_label = f'{latlon_label}_rad'\n",
    "    df_liste_stations[latlon_rad_label] = np.deg2rad(latlon_series)\n",
    "    latlon_rad_labels.append(latlon_rad_label)\n",
    "ref_station_latlon_rad = np.deg2rad(REF_STATION_LATLON)"
   ]
  },
  {
   "cell_type": "code",
   "execution_count": 17,
   "id": "04b1a2da-f879-4ba7-b434-99fe3f58ebe9",
   "metadata": {},
   "outputs": [],
   "source": [
    "from sklearn.neighbors import BallTree\n",
    "\n",
    "# Calcul de l'arbre des plus proches voisins pour la liste des stations\n",
    "X = df_liste_stations[latlon_rad_labels].values\n",
    "tree = BallTree(X, metric='haversine')"
   ]
  },
  {
   "cell_type": "code",
   "execution_count": 18,
   "id": "971bc5fc-0ee3-4ebd-ace6-14f896b46cc3",
   "metadata": {},
   "outputs": [],
   "source": [
    "# Rayon de la terre (km)\n",
    "RAYON_TERRE_KM = 6371.\n",
    "\n",
    "# # Identification d'un certain nombre de plus proches voisins\n",
    "# NN_NUMBER = 20\n",
    "# dist_rad_arr, ind_arr = tree.query([ref_station_latlon_rad], k=NN_NUMBER)\n",
    "\n",
    "# Alternative : identification des plus proches voisins dans un certain rayon\n",
    "NN_RAYON_KM = 35.\n",
    "nn_rayon_rad = NN_RAYON_KM / RAYON_TERRE_KM\n",
    "ind_arr, dist_rad_arr = tree.query_radius(\n",
    "    [ref_station_latlon_rad], nn_rayon_rad,\n",
    "    count_only=False, return_distance=True, sort_results=True)\n",
    "\n",
    "dist_rad, ind = dist_rad_arr[0], ind_arr[0]\n",
    "\n",
    "# Conversion en km de la distance en rad\n",
    "dist_km = np.round(dist_rad * RAYON_TERRE_KM).astype(int)"
   ]
  },
  {
   "cell_type": "code",
   "execution_count": 91,
   "id": "bfe0b8dc-cb81-48e6-9f1a-fad72138b0b0",
   "metadata": {},
   "outputs": [
    {
     "name": "stdout",
     "output_type": "stream",
     "text": [
      "La Petite Claye (48.541356, -1.615400) est à :\n",
      "- 06 km du 0NN BROUALAN (48.485667, -1.640833)\n",
      "- 09 km du 1NN PONTORSON (48.585667, -1.505167)\n",
      "- 17 km du 2NN PLERGUER (48.524833, -1.843667)\n",
      "- 24 km du 3NN FEINS  SA (48.326833, -1.596833)\n",
      "- 27 km du 4NN PLESDER (48.406833, -1.924833)\n",
      "- 29 km du 5NN MEZIERES-SUR-C. (48.308833, -1.439000)\n",
      "- 31 km du 6NN ST OVIN (48.682500, -1.248667)\n",
      "- 33 km du 7NN GRANVILLE (48.834500, -1.613667)\n",
      "- 34 km du 8NN DINARD (48.584833, -2.076333)\n"
     ]
    }
   ],
   "source": [
    "# Sélection des plus proches voisins\n",
    "df_liste_stations_nn = df_liste_stations.iloc[ind]\n",
    "df_liste_stations_nn.name = REF_STATION_NAME\n",
    "s_dist_km = pd.Series(dist_km, index=df_liste_stations_nn.index, name=REF_STATION_NAME)\n",
    "\n",
    "print(f'{REF_STATION_NAME} ({REF_STATION_LATLON[0]:.6f}, {REF_STATION_LATLON[1]:.6f}) est à :')\n",
    "for k, (nn_id, nn_series) in enumerate(df_liste_stations_nn.transpose().items()):\n",
    "    station_name = df_liste_stations_nn.loc[nn_id, 'Nom_usuel']\n",
    "    print(f'- {s_dist_km.loc[nn_id]:02d} km du {k}NN {station_name} '\n",
    "          f'({nn_series[LATLON_LABELS[0]]:.6f}, {nn_series[LATLON_LABELS[1]]:.6f})')"
   ]
  },
  {
   "cell_type": "code",
   "execution_count": 20,
   "id": "623263d6-2cf1-4df2-867e-ad0a8a353965",
   "metadata": {},
   "outputs": [],
   "source": [
    "def demande_donnee_station_date(id_station, date, verify=False):\n",
    "    '''Demande des données horaires pour une station et une date données.'''\n",
    "    # Paramètres définissant la station, la date et le format des données\n",
    "    params = {'id_station': id_station, 'date': date, 'format': METEOFRANCE_FMT}\n",
    "\n",
    "    # Demande de la liste des stations\n",
    "    response = client.request(\n",
    "        'GET', URL_DONNEE_STATION, verify=verify, params=params)\n",
    "\n",
    "    return response\n",
    "\n",
    "def compiler_donnee_des_stations_date(df_liste_stations, date):\n",
    "    df = pd.DataFrame(dtype=float)\n",
    "    for id_station in df_liste_stations.index:\n",
    "        # Requête pour la station\n",
    "        response = demande_donnee_station_date(id_station, date)\n",
    "\n",
    "        # DataFrame de la station\n",
    "        s_station = response_text_to_frame(response).iloc[0]\n",
    "        df_station = s_station.to_frame(id_station).transpose()\n",
    "\n",
    "        # Compilation\n",
    "        df = pd.concat([df, df_station])\n",
    "        \n",
    "    return df\n",
    "\n",
    "def demande_donnee_departement(id_departement, verify=False):\n",
    "    '''Demande des données empaquetées pour un département.'''\n",
    "    # Paramètres définissant le département et le format des données\n",
    "    params = {'id-departement': id_departement, 'format': METEOFRANCE_FMT}\n",
    "\n",
    "    # Demande de la liste des stations\n",
    "    response = client.request(\n",
    "        'GET', URL_DONNEE_PAQUET, verify=verify, params=params)\n",
    "\n",
    "    return response\n",
    "\n",
    "def compiler_donnee_des_departements(df_liste_stations):\n",
    "    liste_id_departements = np.unique(\n",
    "        [_ // 1000000 for _ in df_liste_stations.index])\n",
    "    df_toutes = pd.DataFrame(dtype=float)\n",
    "    for id_departement in liste_id_departements:\n",
    "        # Requête pour la station\n",
    "        response = demande_donnee_departement(id_departement)\n",
    "\n",
    "        # DataFrame pour le département indexé par identifiant station et par date\n",
    "        df_departement = response_text_to_frame(response).set_index(\n",
    "            ['geo_id_insee', 'validity_time'])\n",
    "        \n",
    "        # Compilation\n",
    "        df_toutes = pd.concat([df_toutes, df_departement])\n",
    "\n",
    "    # Sélection des stations de la liste\n",
    "    df = df_toutes.loc[df_liste_stations.index]\n",
    "\n",
    "    # Réindexer à partir des noms usuels\n",
    "    id_stations_df = df.index.to_frame()['geo_id_insee']\n",
    "    liste_noms_stations = [df_liste_stations.loc[_, 'Nom_usuel']\n",
    "                           for _ in id_stations_df]\n",
    "    df.insert(0, 'Nom_usuel', liste_noms_stations)\n",
    "        \n",
    "    return df"
   ]
  },
  {
   "cell_type": "code",
   "execution_count": 21,
   "id": "7a314c4c-f527-43e9-bdf1-a334ba1fa6b7",
   "metadata": {},
   "outputs": [
    {
     "name": "stderr",
     "output_type": "stream",
     "text": [
      "/home/atantet/.conda/envs/agri_notebooks/lib/python3.13/site-packages/urllib3/connectionpool.py:1097: InsecureRequestWarning: Unverified HTTPS request is being made to host 'public-api.meteofrance.fr'. Adding certificate verification is strongly advised. See: https://urllib3.readthedocs.io/en/latest/advanced-usage.html#tls-warnings\n",
      "  warnings.warn(\n",
      "/home/atantet/.conda/envs/agri_notebooks/lib/python3.13/site-packages/urllib3/connectionpool.py:1097: InsecureRequestWarning: Unverified HTTPS request is being made to host 'public-api.meteofrance.fr'. Adding certificate verification is strongly advised. See: https://urllib3.readthedocs.io/en/latest/advanced-usage.html#tls-warnings\n",
      "  warnings.warn(\n"
     ]
    }
   ],
   "source": [
    "df_meteo = compiler_donnee_des_departements(df_liste_stations_nn)[LISTE_VARIABLES_METEO]"
   ]
  },
  {
   "cell_type": "code",
   "execution_count": 94,
   "id": "572cd1b6-5b38-4521-84ca-a1744383f336",
   "metadata": {},
   "outputs": [],
   "source": [
    "def interpolation_inverse_distance_carre(df, s_dist_km):\n",
    "    '''Interpolation des plus proches voisins pondérée par l'inverse de la distance au carré.'''\n",
    "    # Calcul des poids à partir des distances\n",
    "    poids = 1. / s_dist_km**2\n",
    "\n",
    "    # Adaptation des dimensions des poids aux données météo\n",
    "    df_piv = df.unstack()\n",
    "    poids_piv = (df_piv + 1.e-6).mul(poids, axis='index') / (df_piv + 1.e-6)\n",
    "\n",
    "    # Interpolation\n",
    "    df_ref = ((df_piv * poids_piv).sum(0) / poids_piv.sum(0)).unstack().transpose()\n",
    "    \n",
    "    df_ref.name = s_dist_km.name\n",
    "\n",
    "    return df_ref"
   ]
  },
  {
   "cell_type": "code",
   "execution_count": 111,
   "id": "ebaf61e2-f252-410d-a1ab-d56552cee45a",
   "metadata": {},
   "outputs": [],
   "source": [
    "df_meteo_ref = interpolation_inverse_distance_carre(df_meteo, s_dist_km)"
   ]
  },
  {
   "cell_type": "code",
   "execution_count": 112,
   "id": "cec2a00f-f388-4224-8031-9bf7a19d8d07",
   "metadata": {},
   "outputs": [],
   "source": [
    "# Chaleur latente de vaporisation de l’eau (J kg-1)\n",
    "LAMBDA = 2.45e6\n",
    "\n",
    "# Constante psychométrique (kPa K-1)\n",
    "GAMMA = 0.000665\n",
    "\n",
    "# Constante de Stefan (W m-2 K-4)\n",
    "SIGMA = 5.67e8 \n",
    "\n",
    "# Albedo\n",
    "ALPHA = 0.2\n",
    "\n",
    "# Émissivité\n",
    "EPSILON = 0.95\n",
    "\n",
    "# ETP journalière maximale (mm j-1)\n",
    "ETP_JOUR_MAX = 9.\n",
    "\n",
    "# Rayonnement atmosphérique incident (J m-2)\n",
    "RAYONNEMENT_ATMOSPHERIQUE = 0.\n",
    "\n",
    "def calcul_etp(df):\n",
    "    # Variable météorologiques\n",
    "    # Vitesse du vent à 10 m (m s-1)\n",
    "    vitesse_vent_10m = df['ff']\n",
    "\n",
    "    # Temperature de l'air à 2 m (K)\n",
    "    temperature_air_2m = df['t']\n",
    "\n",
    "    # Humidité relative de l'air à 2 m\n",
    "    humidite_relative_air_2m = df['u'] / 100\n",
    "\n",
    "    # Rayonnement global (J m-2)\n",
    "    rayonnement_global = df['ray_glo01']\n",
    "\n",
    "    # Calcul de la pente de la courbe de pression de vapeur à la température moyenne de l'air (kPa K-1)\n",
    "    exposant = 17.27 * (temperature_air_2m - 273.15) / (temperature_air_2m - 35.85)\n",
    "    delta = 2504 * np.exp(exposant) / (temperature_air_2m - 35.85)**2\n",
    "\n",
    "    # Calcul de rho * Cp / ra\n",
    "    rho_cp_sur_ra = LAMBDA * GAMMA * 0.26 * (1. + 0.4 * vitesse_vent_10m)\n",
    "\n",
    "    # Calcul de la pression de vapeur saturante (kPa)\n",
    "    es = 0.6108 * np.exp(exposant)\n",
    "\n",
    "    # Calcul de la pression de vapeur effective (kPa)\n",
    "    ee = humidite_relative_air_2m * es\n",
    "\n",
    "    # Calcul du rayonnement net\n",
    "    rayonnement_net = ((1 - ALPHA) * rayonnement_global +\n",
    "                       EPSILON * RAYONNEMENT_ATMOSPHERIQUE -\n",
    "                       EPSILON * SIGMA * temperature_air_2m**4)\n",
    "\n",
    "    # Calcul de l'ETP (mm h-1)\n",
    "    denominateur = LAMBDA * (delta + GAMMA)\n",
    "    etp1 = np.maximum(0, delta * rayonnement_net / denominateur)\n",
    "    etp2 = np.maximum(0, rho_cp_sur_ra * (es - ee) / denominateur)\n",
    "    etp = etp1 + etp2\n",
    "\n",
    "    df_etp = etp.to_frame('etp')\n",
    "\n",
    "    df_etp.name = df.name\n",
    "\n",
    "    return df_etp"
   ]
  },
  {
   "cell_type": "code",
   "execution_count": 113,
   "id": "ce5c979e-092b-4ecf-91a4-d8798eb37e04",
   "metadata": {},
   "outputs": [],
   "source": [
    "etp = calcul_etp(df_meteo_ref)\n",
    "col = etp.columns[0]\n",
    "df_meteo_ref[col] = etp"
   ]
  },
  {
   "cell_type": "code",
   "execution_count": 116,
   "id": "a73189d6-1e97-4979-8477-7e201a33727e",
   "metadata": {},
   "outputs": [
    {
     "data": {
      "text/plain": [
       "etp    0.01318\n",
       "dtype: float64"
      ]
     },
     "execution_count": 116,
     "metadata": {},
     "output_type": "execute_result"
    }
   ],
   "source": [
    "# Calcul de l'ETP journalière (mm j-1)\n",
    "etp_jour = np.minimum(ETP_JOUR_MAX, etp.sum(0))\n",
    "etp_jour"
   ]
  }
 ],
 "metadata": {
  "kernelspec": {
   "display_name": "Python 3 (ipykernel)",
   "language": "python",
   "name": "python3"
  },
  "language_info": {
   "codemirror_mode": {
    "name": "ipython",
    "version": 3
   },
   "file_extension": ".py",
   "mimetype": "text/x-python",
   "name": "python",
   "nbconvert_exporter": "python",
   "pygments_lexer": "ipython3",
   "version": "3.13.1"
  }
 },
 "nbformat": 4,
 "nbformat_minor": 5
}
