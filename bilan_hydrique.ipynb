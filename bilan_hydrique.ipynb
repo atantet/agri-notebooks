{
 "cells": [
  {
   "cell_type": "markdown",
   "id": "4c3914aa-b40b-4bfb-a3bc-fc409b4842ef",
   "metadata": {},
   "source": [
    "# Bilan Hydrique"
   ]
  },
  {
   "cell_type": "markdown",
   "id": "b568dd36-add3-4a34-916f-2271a34e95ff",
   "metadata": {},
   "source": [
    "Sources :\n",
    "\n",
    "- Coefficients culturaux :\n",
    "  - [ARDEPI](https://www.ardepi.fr/nos-services/vous-etes-irrigant/estimer-ses-besoins-en-eau/maraichage/)\n",
    "  - [Chambre d’agriculture Nouvelle-Aquitaine](https://gironde.chambre-agriculture.fr/fileadmin/user_upload/Nouvelle-Aquitaine/100_Inst-Gironde/Documents/pdf_grandes-cultures_accompagnement-technique_mieux-irriguer/Messages_irrigation_2019/message_1/Tableau_Coefficients_Culturaux_Kc_.02.pdf)\n"
   ]
  },
  {
   "cell_type": "code",
   "execution_count": 1,
   "id": "c33bb3f5-841b-48af-b8b9-4046c4686900",
   "metadata": {},
   "outputs": [],
   "source": [
    "import numpy as np\n",
    "import pandas as pd\n",
    "import matplotlib\n",
    "import matplotlib.pyplot as plt"
   ]
  },
  {
   "cell_type": "code",
   "execution_count": 22,
   "id": "da1d4208-379e-47ee-bf54-e55d4d5fc1cd",
   "metadata": {},
   "outputs": [],
   "source": [
    "# Constantes\n",
    "# Coefficients culturaux (KC) par culture et par stade\n",
    "KC = {\n",
    "    'Pomme de terre': {'Vegetation': 0.9, 'Maximale': 1.05}\n",
    "}\n",
    "\n",
    "# Réserve Utile (RU) par cm de terre fine (mm/cm de terre fine) en fonction de la texture du sol\n",
    "RU_PAR_CM_DE_TF = {\n",
    "    'Terres argileuses': 1.85,\n",
    "    'Argiles sableuses': 1.7, 'Argiles sablo-limoneuses': 1.8, 'Argiles limono-sableuses': 1.8, 'Argiles limoneuses': 1.9,\n",
    "    'Terres argilo-sableuses': 1.7, 'Terres argilo-limono-sableuses': 1.8, 'Terres argilo-limoneuses': 2.,\n",
    "    'Terres sablo-argileuses': 1.4, 'Terres sablo-limono-argileuses': 1.5, 'Terres limono-sablo-argileuses': 1.65, 'Terres limono-argileuses': 2.00,\n",
    "    'Terres sableuses': 0.7, 'Terres sablo-limoneuses': 1., 'Terres limono-sableuses': 1.55, 'Terres limoneuses': 1.8\n",
    "}\n",
    "\n",
    "# Profondeurs d'enracinement typiques\n",
    "PROFONDEUR_ENRACINEMENT_TYPIQUE = {\n",
    "    'Radis': 15.,\n",
    "    'Salade': 15.,\n",
    "    'Choux': 20.,\n",
    "    'Epinard': 20.,\n",
    "    'Oignon': 20.,\n",
    "    'Aubergine': 30.,\n",
    "    'Carotte': 30.,\n",
    "    'Courge': 30.,\n",
    "    'Courgette': 30.,\n",
    "    'Poivron': 30.,\n",
    "    'Pomme de terre': 30.,\n",
    "    'Tomate': 30.\n",
    "}   "
   ]
  },
  {
   "cell_type": "code",
   "execution_count": 23,
   "id": "34b736b5-9486-4cd9-9221-cf6d5d0b5820",
   "metadata": {},
   "outputs": [],
   "source": [
    "# Données météorologiques\n",
    "# Évapotranspiration Potentielle (ETP) sur la période (mm)\n",
    "ETP = 28.\n",
    "\n",
    "# Réserve Facilement Utilisable (RFU) initiale (mm)\n",
    "RFU_INITIALE = 40.\n",
    "\n",
    "# Pluviométrie (mm)\n",
    "PLUVIOMETRIE = 5."
   ]
  },
  {
   "cell_type": "code",
   "execution_count": 24,
   "id": "38a97c0b-ae8c-47f8-91e4-06336e6ffaed",
   "metadata": {},
   "outputs": [],
   "source": [
    "# RFU finale cible (mm)\n",
    "RFU_FINALE_CIBLE = 40.\n",
    "\n",
    "# Coefficient de conversion de la RU en RFU (entre 1/2 et 2/3)\n",
    "RU_VERS_RFU = 2. / 3\n",
    "\n",
    "# Fraction de la réserve utile du sol remplie d'eau (entre 0 pour une période sèche et 1 pour une période pluvieuse)\n",
    "FRACTION_REMPLIE = 1.\n",
    "\n",
    "# Fraction du sol occupé par des cailloux et graviers (entre 0 pour absence de cailloux et 1 pour totalité de cailloux)\n",
    "FRACTION_CAILLOUX = 0.3"
   ]
  },
  {
   "cell_type": "code",
   "execution_count": 25,
   "id": "e1fe2b79-936e-44ae-a707-239f1c291704",
   "metadata": {},
   "outputs": [],
   "source": [
    "# Choix de la culture\n",
    "culture = 'Pomme de terre'\n",
    "\n",
    "# Choix du stade\n",
    "stade = 'Vegetation'\n",
    "\n",
    "# Choix de la texture\n",
    "texture = 'Terres limoneuses'"
   ]
  },
  {
   "cell_type": "code",
   "execution_count": 32,
   "id": "d889582e-060e-4678-bab0-0a7fbf58c113",
   "metadata": {},
   "outputs": [
    {
     "name": "stdout",
     "output_type": "stream",
     "text": [
      "RFU pour une profondeur d'enracinement de 30 cm : 25 mm\n"
     ]
    }
   ],
   "source": [
    "# RU par cm de terre fine pour cette texture\n",
    "ru_par_cm_de_tf_texture = RU_PAR_CM_DE_TF[texture]\n",
    "\n",
    "# Calcul de la profondeur de terre fine\n",
    "profondeur = PROFONDEUR_ENRACINEMENT_TYPIQUE[culture]\n",
    "profondeur_tf = profondeur * (1. - FRACTION_CAILLOUX)\n",
    "\n",
    "# Calcul de la RU (mm)\n",
    "ru = ru_par_cm_de_tf_texture * profondeur_tf\n",
    "\n",
    "# Calcul de la RFU maximale (mm)\n",
    "rfu_max = ru * RU_VERS_RFU\n",
    "\n",
    "# Calcul de la RFU disponible (mm)\n",
    "rfu = rfu_max * FRACTION_REMPLIE\n",
    "\n",
    "print(f\"RFU pour une profondeur d'enracinement de {profondeur:.0f} cm : {rfu:.0f} mm\")"
   ]
  },
  {
   "cell_type": "code",
   "execution_count": 33,
   "id": "6a2eb5f1-a8a6-4460-bcbc-794e22076faf",
   "metadata": {},
   "outputs": [
    {
     "name": "stdout",
     "output_type": "stream",
     "text": [
      "Évapotranspiration maximale pour la Pomme de terre au stade Vegetation: 25 (mm)\n"
     ]
    }
   ],
   "source": [
    "# KC de la culture pour ce stade\n",
    "kc_culture = KC[culture][stade]\n",
    "\n",
    "# Calcul de l'évalotranspiration maximale (mm)\n",
    "etm_culture = kc_culture * ETP\n",
    "\n",
    "print(f'Évapotranspiration maximale pour la {culture} au stade {stade}: {etm_culture:.0f} (mm)')"
   ]
  },
  {
   "cell_type": "code",
   "execution_count": 34,
   "id": "83da8feb-dd5c-4af3-bde8-66cab7dc9891",
   "metadata": {},
   "outputs": [
    {
     "name": "stdout",
     "output_type": "stream",
     "text": [
      "Besoin en irrigation pour la Pomme de terre au stade Vegetation: 35 (mm)\n"
     ]
    }
   ],
   "source": [
    "# Calcul de la RFU finale\n",
    "besoin_irrigation = RFU_FINALE_CIBLE + etm_culture - (rfu + PLUVIOMETRIE)\n",
    "\n",
    "print(f'Besoin en irrigation pour la {culture} au stade {stade}: {besoin_irrigation:.0f} (mm)')"
   ]
  },
  {
   "cell_type": "code",
   "execution_count": null,
   "id": "8b7fb10c-2d26-4b2f-8da2-4d967ed1cbec",
   "metadata": {},
   "outputs": [],
   "source": []
  }
 ],
 "metadata": {
  "kernelspec": {
   "display_name": "Python 3 (ipykernel)",
   "language": "python",
   "name": "python3"
  },
  "language_info": {
   "codemirror_mode": {
    "name": "ipython",
    "version": 3
   },
   "file_extension": ".py",
   "mimetype": "text/x-python",
   "name": "python",
   "nbconvert_exporter": "python",
   "pygments_lexer": "ipython3",
   "version": "3.13.1"
  }
 },
 "nbformat": 4,
 "nbformat_minor": 5
}
