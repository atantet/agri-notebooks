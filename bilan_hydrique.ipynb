{
 "cells": [
  {
   "cell_type": "markdown",
   "id": "4c3914aa-b40b-4bfb-a3bc-fc409b4842ef",
   "metadata": {},
   "source": [
    "# Bilan Hydrique"
   ]
  },
  {
   "cell_type": "markdown",
   "id": "b568dd36-add3-4a34-916f-2271a34e95ff",
   "metadata": {},
   "source": [
    "Sources :\n",
    "\n",
    "- Coefficients culturaux :\n",
    "  - [ARDEPI](https://www.ardepi.fr/nos-services/vous-etes-irrigant/estimer-ses-besoins-en-eau/maraichage/)\n",
    "  - [Chambre d’agriculture Nouvelle-Aquitaine](https://gironde.chambre-agriculture.fr/fileadmin/user_upload/Nouvelle-Aquitaine/100_Inst-Gironde/Documents/pdf_grandes-cultures_accompagnement-technique_mieux-irriguer/Messages_irrigation_2019/message_1/Tableau_Coefficients_Culturaux_Kc_.02.pdf)\n"
   ]
  },
  {
   "cell_type": "code",
   "execution_count": 1,
   "id": "45ddd479-aebf-4091-a12b-9ca688c36aad",
   "metadata": {},
   "outputs": [],
   "source": [
    "import numpy as np\n",
    "import pandas as pd\n",
    "\n",
    "# Définition de la station de référence\n",
    "REF_STATION_NAME = 'La Petite Claye'\n",
    "REF_STATION_LATLON = [48.541356, -1.615400]\n",
    "# Altitude (m)\n",
    "REF_STATION_ALTITUDE = 50.\n",
    "\n",
    "# Identification de l'API Météo-France\n",
    "APPLICATION_ID = 'ZlFGb1VCNzdlQ3c5QmhSMU1IbE8xQTluOE0wYTpUS3l1YkcweGJmSTJrQlJVaGNiSkNHTXczdHNh'\n",
    "\n",
    "# Météo-France API\n",
    "METEOFRANCE_API = 'DPPaquetObs'\n",
    "\n",
    "# Fréquence des données climatiques\n",
    "METEOFRANCE_FREQUENCE = 'horaire'\n",
    "\n",
    "# NN_NOMBRE = 20\n",
    "# NN_RAYON_KM = None\n",
    "NN_NOMBRE = None\n",
    "NN_RAYON_KM = 35.\n",
    "\n",
    "# Liste des variables météorologiques utilisées dans les calculs d'ETP et de bilan hydrique\n",
    "LISTE_VARIABLES_METEO = ['ff', 't', 'u', 'ray_glo01', 'rr1']\n",
    "\n",
    "# Fonction pour aggrégé chaque variable météorologique\n",
    "VARIABLE_AGGREGATORS = {\n",
    "    'ff': lambda x: x.mean(0),\n",
    "    't': lambda x: x.mean(0),\n",
    "    'u': lambda x: x.mean(0),\n",
    "    'ray_glo01': lambda x: x.sum(0),\n",
    "    'rr1': lambda x: x.sum(0),\n",
    "    'etp': lambda x: x.sum(0),\n",
    "}"
   ]
  },
  {
   "cell_type": "code",
   "execution_count": 2,
   "id": "58f677fb-d794-4c08-84ba-d63b3d6fbd6a",
   "metadata": {},
   "outputs": [],
   "source": [
    "import meteofrance\n",
    "\n",
    "# Initialisation d'un client pour accéder à l'API Météo-France\n",
    "client = meteofrance.Client(APPLICATION_ID, METEOFRANCE_API)\n",
    "\n",
    "# Issue a series of API requests an example. For use this test, you must first subscribe to the arome api with your application\n",
    "client.session.headers.update({'Accept': '*/*'})"
   ]
  },
  {
   "cell_type": "code",
   "execution_count": 3,
   "id": "67b91ea7-2896-43d5-9ac7-65ca7abdc0bd",
   "metadata": {},
   "outputs": [
    {
     "name": "stderr",
     "output_type": "stream",
     "text": [
      "/home/atantet/.conda/envs/agri_notebooks/lib/python3.12/site-packages/urllib3/connectionpool.py:1097: InsecureRequestWarning: Unverified HTTPS request is being made to host 'portail-api.meteofrance.fr'. Adding certificate verification is strongly advised. See: https://urllib3.readthedocs.io/en/latest/advanced-usage.html#tls-warnings\n",
      "  warnings.warn(\n",
      "/home/atantet/.conda/envs/agri_notebooks/lib/python3.12/site-packages/urllib3/connectionpool.py:1097: InsecureRequestWarning: Unverified HTTPS request is being made to host 'public-api.meteofrance.fr'. Adding certificate verification is strongly advised. See: https://urllib3.readthedocs.io/en/latest/advanced-usage.html#tls-warnings\n",
      "  warnings.warn(\n"
     ]
    }
   ],
   "source": [
    "section = meteofrance.SECTION_LISTE_STATIONS\n",
    "response = meteofrance.demande(client, section)\n",
    "df_liste_stations = meteofrance.response_text_to_frame(\n",
    "    client, response, index_col=client.id_station_label)"
   ]
  },
  {
   "cell_type": "code",
   "execution_count": 4,
   "id": "971bc5fc-0ee3-4ebd-ace6-14f896b46cc3",
   "metadata": {},
   "outputs": [
    {
     "name": "stderr",
     "output_type": "stream",
     "text": [
      "/home/atantet/Documents/Travail/1_agri/agri-notebooks/geo.py:51: SettingWithCopyWarning: \n",
      "A value is trying to be set on a copy of a slice from a DataFrame.\n",
      "Try using .loc[row_indexer,col_indexer] = value instead\n",
      "\n",
      "See the caveats in the documentation: https://pandas.pydata.org/pandas-docs/stable/user_guide/indexing.html#returning-a-view-versus-a-copy\n",
      "  df_liste_stations_nn.loc[:, 'distance'] = dist_km\n"
     ]
    }
   ],
   "source": [
    "import geo\n",
    "\n",
    "df_liste_stations_nn = geo.selection_plus_proches_voisins(\n",
    "    df_liste_stations, REF_STATION_LATLON, client.latlon_labels,\n",
    "    nombre=NN_NOMBRE, rayon_km=NN_RAYON_KM)"
   ]
  },
  {
   "cell_type": "code",
   "execution_count": 5,
   "id": "bfe0b8dc-cb81-48e6-9f1a-fad72138b0b0",
   "metadata": {},
   "outputs": [
    {
     "name": "stdout",
     "output_type": "stream",
     "text": [
      "La Petite Claye (48.541356, -1.615400) est à :\n",
      "- 06 km du 0NN BROUALAN (48.485667, -1.640833)\n",
      "- 09 km du 1NN PONTORSON (48.585667, -1.505167)\n",
      "- 17 km du 2NN PLERGUER (48.524833, -1.843667)\n",
      "- 24 km du 3NN FEINS  SA (48.326833, -1.596833)\n",
      "- 27 km du 4NN PLESDER (48.406833, -1.924833)\n",
      "- 29 km du 5NN MEZIERES-SUR-C. (48.308833, -1.439000)\n",
      "- 31 km du 6NN ST OVIN (48.682500, -1.248667)\n",
      "- 33 km du 7NN GRANVILLE (48.834500, -1.613667)\n",
      "- 34 km du 8NN DINARD (48.584833, -2.076333)\n"
     ]
    }
   ],
   "source": [
    "print(f'{REF_STATION_NAME} ({REF_STATION_LATLON[0]:.6f}, {REF_STATION_LATLON[1]:.6f}) est à :')\n",
    "for k, (nn_id, nn_series) in enumerate(df_liste_stations_nn.transpose().items()):\n",
    "    station_name = df_liste_stations_nn.loc[nn_id, client.station_name_label]\n",
    "    print(f'- {df_liste_stations_nn.loc[nn_id, 'distance']:02d} km du {k}NN {station_name} '\n",
    "          f'({nn_series[client.latlon_labels[0]]:.6f}, '\n",
    "          f'{nn_series[client.latlon_labels[1]]:.6f})')"
   ]
  },
  {
   "cell_type": "code",
   "execution_count": 6,
   "id": "7a314c4c-f527-43e9-bdf1-a334ba1fa6b7",
   "metadata": {},
   "outputs": [
    {
     "name": "stderr",
     "output_type": "stream",
     "text": [
      "/home/atantet/.conda/envs/agri_notebooks/lib/python3.12/site-packages/urllib3/connectionpool.py:1097: InsecureRequestWarning: Unverified HTTPS request is being made to host 'public-api.meteofrance.fr'. Adding certificate verification is strongly advised. See: https://urllib3.readthedocs.io/en/latest/advanced-usage.html#tls-warnings\n",
      "  warnings.warn(\n",
      "/home/atantet/.conda/envs/agri_notebooks/lib/python3.12/site-packages/urllib3/connectionpool.py:1097: InsecureRequestWarning: Unverified HTTPS request is being made to host 'public-api.meteofrance.fr'. Adding certificate verification is strongly advised. See: https://urllib3.readthedocs.io/en/latest/advanced-usage.html#tls-warnings\n",
      "  warnings.warn(\n"
     ]
    }
   ],
   "source": [
    "df_meteo = meteofrance.compiler_donnee_des_departements(\n",
    "    client, df_liste_stations_nn,\n",
    "    frequence=METEOFRANCE_FREQUENCE)[LISTE_VARIABLES_METEO]"
   ]
  },
  {
   "cell_type": "code",
   "execution_count": 7,
   "id": "ebaf61e2-f252-410d-a1ab-d56552cee45a",
   "metadata": {},
   "outputs": [],
   "source": [
    "df_meteo_ref = geo.interpolation_inverse_distance_carre(\n",
    "    df_meteo, df_liste_stations_nn['distance'])"
   ]
  },
  {
   "cell_type": "code",
   "execution_count": 8,
   "id": "ce5c979e-092b-4ecf-91a4-d8798eb37e04",
   "metadata": {},
   "outputs": [],
   "source": [
    "from etp import calcul_etp\n",
    "\n",
    "etp = calcul_etp(df_meteo_ref, *REF_STATION_LATLON, REF_STATION_ALTITUDE)\n",
    "df_meteo_ref['etp'] = etp"
   ]
  },
  {
   "cell_type": "code",
   "execution_count": 9,
   "id": "b99e0cf7-7cf7-4de2-be6f-9f15a574fe82",
   "metadata": {},
   "outputs": [
    {
     "data": {
      "text/plain": [
       "ff           3.533447e+00\n",
       "t            2.731364e+02\n",
       "u            8.991283e+01\n",
       "ray_glo01    1.467000e+06\n",
       "rr1          7.106477e+00\n",
       "etp          3.316577e-01\n",
       "dtype: float64"
      ]
     },
     "execution_count": 9,
     "metadata": {},
     "output_type": "execute_result"
    }
   ],
   "source": [
    "# Calcul des valeurs journalières des variables météo\n",
    "s_meteo_ref_jour = pd.Series(dtype=float)\n",
    "for variable, series in df_meteo_ref.items():\n",
    "    s_meteo_ref_jour.loc[variable] = VARIABLE_AGGREGATORS[variable](df_meteo_ref[variable])\n",
    "s_meteo_ref_jour"
   ]
  },
  {
   "cell_type": "code",
   "execution_count": 10,
   "id": "151448cd-958d-48ad-b6fb-2f916607f139",
   "metadata": {},
   "outputs": [],
   "source": [
    "# RFU finale cible (mm)\n",
    "RFU_CIBLE = None\n",
    "\n",
    "# Fraction du sol occupé par des cailloux et graviers (entre 0 pour absence de cailloux et 1 pour totalité de cailloux)\n",
    "FRACTION_CAILLOUX = 0.1\n",
    "\n",
    "# Choix de la texture\n",
    "TEXTURE = 'Terres limoneuses'\n",
    "\n",
    "# Coefficient de conversion de la RU en RFU (entre 1/2 et 2/3)\n",
    "RU_VERS_RFU = 2. / 3\n",
    "\n",
    "# Fraction de la réserve utile du sol remplie d'eau (entre 0 pour une période sèche et 1 pour une période pluvieuse)\n",
    "FRACTION_REMPLIE = 1."
   ]
  },
  {
   "cell_type": "code",
   "execution_count": 11,
   "id": "e1fe2b79-936e-44ae-a707-239f1c291704",
   "metadata": {},
   "outputs": [],
   "source": [
    "# Choix de la culture\n",
    "CULTURE = 'Pomme de terre'\n",
    "\n",
    "# Choix du stade\n",
    "STADE = 'Vegetation'"
   ]
  },
  {
   "cell_type": "code",
   "execution_count": 12,
   "id": "83da8feb-dd5c-4af3-bde8-66cab7dc9891",
   "metadata": {},
   "outputs": [
    {
     "name": "stdout",
     "output_type": "stream",
     "text": [
      "RFU initiale pour une profondeur d'enracinement de 30 cm : 32 mm\n",
      "Precipitation : 7.11 mm\n",
      "Évapotranspiration maximale pour la Pomme de terre au stade Vegetation : 0.30 mm\n",
      "Besoin en irrigation pour la Pomme de terre au stade Vegetation pour atteindre une rfu_finale de 32 mm : -6.81 mm\n",
      "-> Pas besoin d'irriguer\n"
     ]
    }
   ],
   "source": [
    "import bilan\n",
    "\n",
    "s_bilan = bilan.calcul_bilan(\n",
    "    TEXTURE, FRACTION_CAILLOUX,\n",
    "    CULTURE, STADE,\n",
    "    s_meteo_ref_jour,\n",
    "    rfu_cible=RFU_CIBLE, fraction_remplie=FRACTION_REMPLIE, ru_vers_rfu=RU_VERS_RFU)\n",
    "\n",
    "print(f\"RFU initiale pour une profondeur d'enracinement de \"\n",
    "      f\"{s_bilan.loc['profondeur_enracinement']:.0f} cm : \"\n",
    "      f\"{s_bilan['rfu']:.0f} mm\")\n",
    "print(f\"Precipitation : {s_bilan['precipitation']:.2f} mm\")\n",
    "print(f\"Évapotranspiration maximale pour la {CULTURE} au stade {STADE} : \"\n",
    "      f\"{s_bilan['etm_culture']:.2f} mm\")\n",
    "print(f\"Besoin en irrigation pour la {CULTURE} au stade {STADE} \"\n",
    "      f\"pour atteindre une rfu_finale de {s_bilan['rfu_cible']:.0f} mm : \"\n",
    "      f\"{s_bilan['besoin_irrigation'] :.2f} mm\")\n",
    "if s_bilan['besoin_irrigation'] < 0:\n",
    "    print(\"-> Pas besoin d'irriguer\")"
   ]
  }
 ],
 "metadata": {
  "kernelspec": {
   "display_name": "Python 3 (ipykernel)",
   "language": "python",
   "name": "python3"
  },
  "language_info": {
   "codemirror_mode": {
    "name": "ipython",
    "version": 3
   },
   "file_extension": ".py",
   "mimetype": "text/x-python",
   "name": "python",
   "nbconvert_exporter": "python",
   "pygments_lexer": "ipython3",
   "version": "3.12.8"
  }
 },
 "nbformat": 4,
 "nbformat_minor": 5
}
