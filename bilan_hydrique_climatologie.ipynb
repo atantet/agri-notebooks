{
 "cells": [
  {
   "cell_type": "markdown",
   "id": "bb43686f-a377-47f6-a4e2-308522ca9349",
   "metadata": {},
   "source": [
    "# Bilan hydrique à partir d'observations Météo-France quotidiennes qualifiées\n",
    "\n",
    "## Reconstruction des données météorologiques pour une station de référence\n",
    "\n",
    "### Définition des paramètres"
   ]
  },
  {
   "cell_type": "code",
   "execution_count": 1,
   "id": "74cda1c2-bc7a-4680-b5ac-31e760a587e3",
   "metadata": {},
   "outputs": [],
   "source": [
    "# Définition de la station de référence\n",
    "REF_STATION_NAME = 'La Petite Claye'\n",
    "REF_STATION_LATLON = [48.541356, -1.615400]\n",
    "# Altitude (m)\n",
    "REF_STATION_ALTITUDE = 50.\n",
    "\n",
    "# Identification de l'API Météo-France\n",
    "APPLICATION_ID = 'ZlFGb1VCNzdlQ3c5QmhSMU1IbE8xQTluOE0wYTpUS3l1YkcweGJmSTJrQlJVaGNiSkNHTXczdHNh'\n",
    "\n",
    "# Météo-France API\n",
    "METEOFRANCE_API = 'DPClim'\n",
    "\n",
    "# Départements où chercher des stations\n",
    "ID_DEPARTEMENTS = [35, 50]\n",
    "\n",
    "# Fréquence des données climatiques\n",
    "METEOFRANCE_FREQUENCE = 'quotidienne'\n",
    "\n",
    "# Liste des variables météorologiques utilisées pour le bilan hydrique\n",
    "LISTE_VARIABLES_METEO = ['ETPGRILLE', 'RR']\n",
    "\n",
    "NN_NOMBRE = None\n",
    "# NN_RAYON_KM = 20.\n",
    "NN_RAYON_KM = 35."
   ]
  },
  {
   "cell_type": "markdown",
   "id": "e5e0a1d8-ea17-4043-b38c-1e2719ccec33",
   "metadata": {},
   "source": [
    "### Lecture de la liste des stations"
   ]
  },
  {
   "cell_type": "code",
   "execution_count": 2,
   "id": "bd75ba1a-3536-4ff2-88f1-34e617a50731",
   "metadata": {},
   "outputs": [
    {
     "ename": "SyntaxError",
     "evalue": "invalid syntax. Perhaps you forgot a comma? (meteofrance.py, line 91)",
     "output_type": "error",
     "traceback": [
      "Traceback \u001b[0;36m(most recent call last)\u001b[0m:\n",
      "\u001b[0m  File \u001b[1;32m~/.conda/envs/agri_notebooks/lib/python3.12/site-packages/IPython/core/interactiveshell.py:3577\u001b[0m in \u001b[1;35mrun_code\u001b[0m\n    exec(code_obj, self.user_global_ns, self.user_ns)\u001b[0m\n",
      "\u001b[0;36m  Cell \u001b[0;32mIn[2], line 1\u001b[0;36m\n\u001b[0;31m    import meteofrance\u001b[0;36m\n",
      "\u001b[0;36m  File \u001b[0;32m~/Documents/Travail/1_agri/agri-notebooks/meteofrance.py:91\u001b[0;36m\u001b[0m\n\u001b[0;31m    'horaire': {\u001b[0m\n\u001b[0m               ^\u001b[0m\n\u001b[0;31mSyntaxError\u001b[0m\u001b[0;31m:\u001b[0m invalid syntax. Perhaps you forgot a comma?\n"
     ]
    }
   ],
   "source": [
    "import meteofrance\n",
    "\n",
    "# Initialisation d'un client pour accéder à l'API Météo-France\n",
    "client = meteofrance.Client(APPLICATION_ID, METEOFRANCE_API)\n",
    "\n",
    "# Issue a series of API requests an example. For use this test, you must first subscribe to the arome api with your application\n",
    "client.session.headers.update({'Accept': '*/*'})"
   ]
  },
  {
   "cell_type": "code",
   "execution_count": null,
   "id": "f6bf0e71-21cc-4858-9711-e6dd8365879e",
   "metadata": {
    "scrolled": true
   },
   "outputs": [],
   "source": [
    "import pandas as pd\n",
    "\n",
    "LECTURE_LISTE_STATIONS = True\n",
    "\n",
    "l_listes = []\n",
    "for id_dep in ID_DEPARTEMENTS:\n",
    "    filepath_liste_stations = meteofrance.get_filepath_liste_stations(\n",
    "        client, id_dep)\n",
    "    \n",
    "    if LECTURE_LISTE_STATIONS:\n",
    "        # Lecture de la liste des stations par département\n",
    "        df_liste_stations_dep = pd.read_csv(\n",
    "            filepath_liste_stations, index_col=client.id_station_label)\n",
    "    else:\n",
    "        # Demande de la liste des stations pour le département\n",
    "        section = meteofrance.SECTION_LISTE_STATIONS\n",
    "        params = {'id-departement': id_dep}\n",
    "        response = meteofrance.demande(\n",
    "            client, section, params=params, frequence=METEOFRANCE_FREQUENCE)\n",
    "        df_liste_stations_dep = meteofrance.response_text_to_frame(\n",
    "            client, response, index_col=client.id_station_label)\n",
    "\n",
    "        # Sauvegarde de la liste des stations par département\n",
    "        df_liste_stations_dep.to_csv(filepath_liste_stations)\n",
    "\n",
    "    # Liste pour compilation\n",
    "    l_listes.append(df_liste_stations_dep)\n",
    "\n",
    "# Compilation\n",
    "df_liste_stations_brute = pd.concat(l_listes, axis='index')\n",
    "\n",
    "# Garder les stations valides seulement\n",
    "df_liste_stations = meteofrance.filtrer_stations_valides(client, df_liste_stations_brute)"
   ]
  },
  {
   "cell_type": "markdown",
   "id": "c77962b4-4c1d-4b7e-8cdf-9f7bc2a9bacd",
   "metadata": {},
   "source": [
    "### Sélection des plus proches voisins de la station de référence"
   ]
  },
  {
   "cell_type": "code",
   "execution_count": null,
   "id": "6baaaf56-2513-4397-9d23-8a202f5d2839",
   "metadata": {},
   "outputs": [],
   "source": [
    "import geo\n",
    "\n",
    "df_liste_stations_nn = geo.selection_plus_proches_voisins(\n",
    "    df_liste_stations, REF_STATION_LATLON, client.latlon_labels,\n",
    "    nombre=NN_NOMBRE, rayon_km=NN_RAYON_KM)\n",
    "\n",
    "df_liste_stations_nn"
   ]
  },
  {
   "cell_type": "markdown",
   "id": "221b43c8-4af9-4e71-aae9-6e9795165398",
   "metadata": {},
   "source": [
    "### Obtention des données météorologiques pour les stations voisines"
   ]
  },
  {
   "cell_type": "code",
   "execution_count": null,
   "id": "cc6bf6d6-6407-42b0-b6a8-e07551c10973",
   "metadata": {},
   "outputs": [],
   "source": [
    "DATE_DEB_PERIODE = '2024-01-01T00:00:00Z'\n",
    "DATE_FIN_PERIODE = '2024-12-31T23:00:00Z'\n",
    "\n",
    "LECTURE_DONNEE = False\n",
    "\n",
    "filepath_donnee = meteofrance.get_filepath_donnee_periode(\n",
    "    client, DATE_DEB_PERIODE, DATE_FIN_PERIODE,\n",
    "    df_liste_stations=df_liste_stations_nn)\n",
    "    \n",
    "if LECTURE_DONNEE:\n",
    "    # Lecture des données des stations pour la période\n",
    "    df_meteo = pd.read_csv(\n",
    "        filepath_donnee, parse_dates=[client.time_label],\n",
    "        index_col=[client.id_station_donnee_label, client.time_label])\n",
    "else:\n",
    "    # Demande des données des stations pour la période\n",
    "    df_meteo = meteofrance.compiler_telechargement_des_stations_periode(\n",
    "        client, df_liste_stations_nn, DATE_DEB_PERIODE, DATE_FIN_PERIODE,\n",
    "        frequence=METEOFRANCE_FREQUENCE)[LISTE_VARIABLES_METEO]\n",
    "    \n",
    "    # Sauvegarde des données des stations pour la période par département\n",
    "    df_meteo.to_csv(filepath_donnee)"
   ]
  },
  {
   "cell_type": "markdown",
   "id": "3c3227b9-2974-4c12-9e48-908d49774769",
   "metadata": {},
   "source": [
    "### Interpolation des données météorologiques à la station de référence\n",
    "\n",
    "Les variables sont également renommées en utilisant des noms communs à l'ensemble de ces notebooks quelque soit l'API utilisée."
   ]
  },
  {
   "cell_type": "code",
   "execution_count": null,
   "id": "739c51ea-caa7-4c1a-93bc-031d0d2ae348",
   "metadata": {},
   "outputs": [],
   "source": [
    "LECTURE_DONNEE_REF = False\n",
    "\n",
    "str_ref_station_name = REF_STATION_NAME.lower().replace(' ', '')\n",
    "filepath_donnee_ref = filepath_donnee.with_name(\n",
    "    filepath_donnee.stem + '_' + str_ref_station_name + filepath_donnee.suffix)\n",
    "\n",
    "if LECTURE_DONNEE_REF:\n",
    "    # Lecture des données des stations pour la période\n",
    "    df_meteo_ref = pd.read_csv(\n",
    "        filepath_donnee_ref, parse_dates=[client.time_label],\n",
    "        index_col=client.time_label)\n",
    "else:\n",
    "    # Demande des données des stations pour la période\n",
    "    df_meteo_ref = geo.interpolation_inverse_distance_carre(\n",
    "        df_meteo, df_liste_stations_nn['distance'])\n",
    "    \n",
    "    # Sauvegarde par département\n",
    "    df_meteo_ref.to_csv(filepath_donnee_ref)\n",
    "\n",
    "df_meteo_ref = meteofrance.renommer_variables(\n",
    "    client, df_meteo_ref, METEOFRANCE_FREQUENCE)"
   ]
  },
  {
   "cell_type": "markdown",
   "id": "88f8443b-23ed-4646-afd1-e26d462b7e69",
   "metadata": {},
   "source": [
    "## Estimation du bilan hydrique\n",
    "\n",
    "### Définition des paramètres"
   ]
  },
  {
   "cell_type": "code",
   "execution_count": null,
   "id": "4f9c5831-2257-471e-8cbc-1767f3aa5006",
   "metadata": {},
   "outputs": [],
   "source": [
    "# RFU finale cible (mm)\n",
    "RFU_CIBLE = None\n",
    "\n",
    "# Fraction du sol occupé par des cailloux et graviers (entre 0 pour absence de cailloux et 1 pour totalité de cailloux)\n",
    "FRACTION_CAILLOUX = 0.1\n",
    "\n",
    "# Choix de la texture\n",
    "TEXTURE = 'Terres limoneuses'\n",
    "\n",
    "# Coefficient de conversion de la RU en RFU (entre 1/2 et 2/3)\n",
    "RU_VERS_RFU = 2. / 3\n",
    "\n",
    "# Fraction de la réserve utile du sol remplie d'eau (entre 0 pour une période sèche et 1 pour une période pluvieuse)\n",
    "FRACTION_REMPLIE = 1."
   ]
  },
  {
   "cell_type": "code",
   "execution_count": null,
   "id": "93051d87-d1a8-4895-86ba-10e966c37099",
   "metadata": {},
   "outputs": [],
   "source": [
    "# Choix de la culture\n",
    "CULTURE = 'Pomme de terre'\n",
    "\n",
    "# Choix du stade\n",
    "STADE = 'Vegetation'"
   ]
  },
  {
   "cell_type": "markdown",
   "id": "5453ae39-4ea8-40aa-9331-348003393911",
   "metadata": {},
   "source": [
    "### Calcul du bilan hydrique"
   ]
  },
  {
   "cell_type": "code",
   "execution_count": null,
   "id": "c050f31f-2bf4-462d-8186-e1a522fa3e3e",
   "metadata": {},
   "outputs": [],
   "source": [
    "import bilan\n",
    "\n",
    "df_bilan = bilan.calcul_bilan(\n",
    "    TEXTURE, FRACTION_CAILLOUX,\n",
    "    CULTURE, STADE,\n",
    "    df_meteo_ref,\n",
    "    rfu_cible=RFU_CIBLE, fraction_remplie=FRACTION_REMPLIE, ru_vers_rfu=RU_VERS_RFU)\n",
    "\n",
    "df_bilan.describe()"
   ]
  }
 ],
 "metadata": {
  "kernelspec": {
   "display_name": "Python 3 (ipykernel)",
   "language": "python",
   "name": "python3"
  },
  "language_info": {
   "codemirror_mode": {
    "name": "ipython",
    "version": 3
   },
   "file_extension": ".py",
   "mimetype": "text/x-python",
   "name": "python",
   "nbconvert_exporter": "python",
   "pygments_lexer": "ipython3",
   "version": "3.12.8"
  }
 },
 "nbformat": 4,
 "nbformat_minor": 5
}
