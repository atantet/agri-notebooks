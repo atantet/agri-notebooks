{
 "cells": [
  {
   "cell_type": "markdown",
   "id": "bb43686f-a377-47f6-a4e2-308522ca9349",
   "metadata": {},
   "source": [
    "# Bilan Hydrique Climatologie"
   ]
  },
  {
   "cell_type": "code",
   "execution_count": 1,
   "id": "74cda1c2-bc7a-4680-b5ac-31e760a587e3",
   "metadata": {},
   "outputs": [],
   "source": [
    "import numpy as np\n",
    "import pandas as pd\n",
    "\n",
    "# Définition de la station de référence\n",
    "REF_STATION_NAME = 'La Petite Claye'\n",
    "REF_STATION_LATLON = [48.541356, -1.615400]\n",
    "# Altitude (m)\n",
    "REF_STATION_ALTITUDE = 50.\n",
    "\n",
    "# Identification de l'API Météo-France\n",
    "APPLICATION_ID = 'ZlFGb1VCNzdlQ3c5QmhSMU1IbE8xQTluOE0wYTpUS3l1YkcweGJmSTJrQlJVaGNiSkNHTXczdHNh'\n",
    "\n",
    "# Météo-France API\n",
    "METEOFRANCE_API = 'DPClim'\n",
    "\n",
    "# Départements où chercher des stations\n",
    "ID_DEPARTEMENTS = [35, 50]\n",
    "\n",
    "# Fréquence des données climatiques\n",
    "METEOFRANCE_FREQUENCE = 'quotidienne'\n",
    "\n",
    "# NN_NOMBRE = 20\n",
    "# NN_RAYON_KM = None\n",
    "NN_NOMBRE = None\n",
    "NN_RAYON_KM = 35."
   ]
  },
  {
   "cell_type": "code",
   "execution_count": 2,
   "id": "bd75ba1a-3536-4ff2-88f1-34e617a50731",
   "metadata": {},
   "outputs": [],
   "source": [
    "import meteofrance\n",
    "\n",
    "# Initialisation d'un client pour accéder à l'API Météo-France\n",
    "client = meteofrance.Client(APPLICATION_ID, METEOFRANCE_API)\n",
    "\n",
    "# Issue a series of API requests an example. For use this test, you must first subscribe to the arome api with your application\n",
    "client.session.headers.update({'Accept': '*/*'})"
   ]
  },
  {
   "cell_type": "code",
   "execution_count": 3,
   "id": "f6bf0e71-21cc-4858-9711-e6dd8365879e",
   "metadata": {
    "scrolled": true
   },
   "outputs": [],
   "source": [
    "LECTURE_LISTE_STATIONS = False\n",
    "\n",
    "l_listes = []\n",
    "for id_dep in ID_DEPARTEMENTS:\n",
    "    filepath_liste_stations = meteofrance.get_filepath_liste_stations(\n",
    "        client, id_dep)\n",
    "    \n",
    "    if LECTURE_LISTE_STATIONS:\n",
    "        # Lecture par département\n",
    "        filepath_liste_stations = meteofrance.get_filepath_liste_stations(\n",
    "            client, id_dep)\n",
    "        df_liste_stations_dep = pd.read_csv(filepath_liste_stations, index_col=0)\n",
    "    else:\n",
    "        # Demande de la liste des stations pour le département\n",
    "        section = meteofrance.SECTION_LISTE_STATIONS\n",
    "        params = {'id-departement': id_dep}\n",
    "        response = meteofrance.demande(\n",
    "            client, section, params=params, frequence=METEOFRANCE_FREQUENCE)\n",
    "        df_liste_stations_dep = meteofrance.response_text_to_frame(\n",
    "            client, response, index_col=client.id_station_label)\n",
    "\n",
    "        # Sauvegarde par département\n",
    "        df_liste_stations_dep.to_csv(filepath_liste_stations)\n",
    "\n",
    "    # Liste pour compilation\n",
    "    l_listes.append(df_liste_stations_dep)\n",
    "\n",
    "# Compilation\n",
    "df_liste_stations_brute = pd.concat(l_listes, axis='index')\n",
    "\n",
    "# Garder les stations valides seulement\n",
    "df_liste_stations = meteofrance.filtrer_stations_valides(client, df_liste_stations_brute)"
   ]
  },
  {
   "cell_type": "code",
   "execution_count": 4,
   "id": "6baaaf56-2513-4397-9d23-8a202f5d2839",
   "metadata": {},
   "outputs": [
    {
     "name": "stderr",
     "output_type": "stream",
     "text": [
      "/home/atantet/Documents/Travail/1_agri/agri-notebooks/geo.py:51: SettingWithCopyWarning: \n",
      "A value is trying to be set on a copy of a slice from a DataFrame.\n",
      "Try using .loc[row_indexer,col_indexer] = value instead\n",
      "\n",
      "See the caveats in the documentation: https://pandas.pydata.org/pandas-docs/stable/user_guide/indexing.html#returning-a-view-versus-a-copy\n",
      "  df_liste_stations_nn.loc[:, 'distance'] = dist_km\n"
     ]
    },
    {
     "data": {
      "text/html": [
       "<div>\n",
       "<style scoped>\n",
       "    .dataframe tbody tr th:only-of-type {\n",
       "        vertical-align: middle;\n",
       "    }\n",
       "\n",
       "    .dataframe tbody tr th {\n",
       "        vertical-align: top;\n",
       "    }\n",
       "\n",
       "    .dataframe thead th {\n",
       "        text-align: right;\n",
       "    }\n",
       "</style>\n",
       "<table border=\"1\" class=\"dataframe\">\n",
       "  <thead>\n",
       "    <tr style=\"text-align: right;\">\n",
       "      <th></th>\n",
       "      <th>nom</th>\n",
       "      <th>typePoste</th>\n",
       "      <th>lon</th>\n",
       "      <th>lat</th>\n",
       "      <th>alt</th>\n",
       "      <th>distance</th>\n",
       "    </tr>\n",
       "    <tr>\n",
       "      <th>id</th>\n",
       "      <th></th>\n",
       "      <th></th>\n",
       "      <th></th>\n",
       "      <th></th>\n",
       "      <th></th>\n",
       "      <th></th>\n",
       "    </tr>\n",
       "  </thead>\n",
       "  <tbody>\n",
       "    <tr>\n",
       "      <th>35044001</th>\n",
       "      <td>BROUALAN</td>\n",
       "      <td>2</td>\n",
       "      <td>-1.640833</td>\n",
       "      <td>48.485667</td>\n",
       "      <td>99</td>\n",
       "      <td>6</td>\n",
       "    </tr>\n",
       "    <tr>\n",
       "      <th>50410003</th>\n",
       "      <td>PONTORSON</td>\n",
       "      <td>1</td>\n",
       "      <td>-1.505167</td>\n",
       "      <td>48.585667</td>\n",
       "      <td>33</td>\n",
       "      <td>9</td>\n",
       "    </tr>\n",
       "    <tr>\n",
       "      <th>35224001</th>\n",
       "      <td>PLERGUER</td>\n",
       "      <td>2</td>\n",
       "      <td>-1.843667</td>\n",
       "      <td>48.524833</td>\n",
       "      <td>30</td>\n",
       "      <td>17</td>\n",
       "    </tr>\n",
       "    <tr>\n",
       "      <th>35110003</th>\n",
       "      <td>FEINS  SA</td>\n",
       "      <td>1</td>\n",
       "      <td>-1.596833</td>\n",
       "      <td>48.326833</td>\n",
       "      <td>87</td>\n",
       "      <td>24</td>\n",
       "    </tr>\n",
       "    <tr>\n",
       "      <th>35225001</th>\n",
       "      <td>PLESDER</td>\n",
       "      <td>2</td>\n",
       "      <td>-1.924833</td>\n",
       "      <td>48.406833</td>\n",
       "      <td>56</td>\n",
       "      <td>27</td>\n",
       "    </tr>\n",
       "    <tr>\n",
       "      <th>35178001</th>\n",
       "      <td>MEZIERES-SUR-C.</td>\n",
       "      <td>2</td>\n",
       "      <td>-1.439000</td>\n",
       "      <td>48.308833</td>\n",
       "      <td>71</td>\n",
       "      <td>29</td>\n",
       "    </tr>\n",
       "    <tr>\n",
       "      <th>50531001</th>\n",
       "      <td>ST OVIN</td>\n",
       "      <td>2</td>\n",
       "      <td>-1.248667</td>\n",
       "      <td>48.682500</td>\n",
       "      <td>155</td>\n",
       "      <td>31</td>\n",
       "    </tr>\n",
       "    <tr>\n",
       "      <th>50218001</th>\n",
       "      <td>GRANVILLE</td>\n",
       "      <td>3</td>\n",
       "      <td>-1.613667</td>\n",
       "      <td>48.834500</td>\n",
       "      <td>37</td>\n",
       "      <td>33</td>\n",
       "    </tr>\n",
       "    <tr>\n",
       "      <th>35228001</th>\n",
       "      <td>DINARD</td>\n",
       "      <td>0</td>\n",
       "      <td>-2.076333</td>\n",
       "      <td>48.584833</td>\n",
       "      <td>65</td>\n",
       "      <td>34</td>\n",
       "    </tr>\n",
       "  </tbody>\n",
       "</table>\n",
       "</div>"
      ],
      "text/plain": [
       "                      nom  typePoste       lon        lat  alt  distance\n",
       "id                                                                      \n",
       "35044001         BROUALAN          2 -1.640833  48.485667   99         6\n",
       "50410003        PONTORSON          1 -1.505167  48.585667   33         9\n",
       "35224001         PLERGUER          2 -1.843667  48.524833   30        17\n",
       "35110003        FEINS  SA          1 -1.596833  48.326833   87        24\n",
       "35225001          PLESDER          2 -1.924833  48.406833   56        27\n",
       "35178001  MEZIERES-SUR-C.          2 -1.439000  48.308833   71        29\n",
       "50531001          ST OVIN          2 -1.248667  48.682500  155        31\n",
       "50218001        GRANVILLE          3 -1.613667  48.834500   37        33\n",
       "35228001           DINARD          0 -2.076333  48.584833   65        34"
      ]
     },
     "execution_count": 4,
     "metadata": {},
     "output_type": "execute_result"
    }
   ],
   "source": [
    "import geo\n",
    "\n",
    "df_liste_stations_nn = geo.selection_plus_proches_voisins(\n",
    "    df_liste_stations, REF_STATION_LATLON, client.latlon_labels,\n",
    "    nombre=NN_NOMBRE, rayon_km=NN_RAYON_KM)\n",
    "\n",
    "df_liste_stations_nn"
   ]
  },
  {
   "cell_type": "code",
   "execution_count": 5,
   "id": "cc6bf6d6-6407-42b0-b6a8-e07551c10973",
   "metadata": {},
   "outputs": [
    {
     "data": {
      "text/plain": [
       "{35044001: '789991692945',\n",
       " 50410003: '789991693082',\n",
       " 35224001: '789991693213',\n",
       " 35110003: '789991693392',\n",
       " 35225001: '789991693529',\n",
       " 35178001: '789991693786',\n",
       " 50531001: '789991694034',\n",
       " 50218001: '789991695096',\n",
       " 35228001: '789991695231'}"
      ]
     },
     "execution_count": 5,
     "metadata": {},
     "output_type": "execute_result"
    }
   ],
   "source": [
    "DATE_DEB_PERIODE = '2024-12-01T00:00:00Z'\n",
    "DATE_FIN_PERIODE = '2024-12-31T23:00:00Z'\n",
    "\n",
    "id_commandes = meteofrance.compiler_commandes_des_stations_periode(\n",
    "    client, df_liste_stations_nn, DATE_DEB_PERIODE, DATE_FIN_PERIODE,\n",
    "    frequence=METEOFRANCE_FREQUENCE)\n",
    "id_commandes"
   ]
  },
  {
   "cell_type": "code",
   "execution_count": 6,
   "id": "a694b996-ca00-48a3-a141-4f09fa31997b",
   "metadata": {},
   "outputs": [
    {
     "data": {
      "text/plain": [
       "<Response [201]>"
      ]
     },
     "execution_count": 6,
     "metadata": {},
     "output_type": "execute_result"
    }
   ],
   "source": [
    "section = 'commande'\n",
    "response = meteofrance.demande(client, section, {'id-cmde': 789991692945}, frequence='fichier')\n",
    "response"
   ]
  },
  {
   "cell_type": "code",
   "execution_count": null,
   "id": "989fb336-e7d8-4442-b441-744744637d24",
   "metadata": {},
   "outputs": [],
   "source": [
    "response"
   ]
  },
  {
   "cell_type": "code",
   "execution_count": null,
   "id": "ac0b630d-1224-4f07-be77-92c0bf9b9e5c",
   "metadata": {},
   "outputs": [],
   "source": []
  }
 ],
 "metadata": {
  "kernelspec": {
   "display_name": "Python 3 (ipykernel)",
   "language": "python",
   "name": "python3"
  },
  "language_info": {
   "codemirror_mode": {
    "name": "ipython",
    "version": 3
   },
   "file_extension": ".py",
   "mimetype": "text/x-python",
   "name": "python",
   "nbconvert_exporter": "python",
   "pygments_lexer": "ipython3",
   "version": "3.12.8"
  }
 },
 "nbformat": 4,
 "nbformat_minor": 5
}
